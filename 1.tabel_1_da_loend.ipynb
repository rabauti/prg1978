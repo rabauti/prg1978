{
 "cells": [
  {
   "cell_type": "code",
   "execution_count": 1,
   "metadata": {},
   "outputs": [],
   "source": [
    "%load_ext autoreload\n",
    "%autoreload 2"
   ]
  },
  {
   "cell_type": "code",
   "execution_count": 2,
   "metadata": {},
   "outputs": [],
   "source": [
    "from datetime import datetime\n",
    "\n",
    "from data_helpers.syntax_graph import SyntaxGraph\n",
    "from data_helpers.tasak_reader import TasakReader\n",
    "\n",
    "# functions for creating database and collecting collocations\n",
    "from collect_functions_1_da import *"
   ]
  },
  {
   "cell_type": "markdown",
   "metadata": {},
   "source": [
    "# Tabel 1 andmete kogumine\n",
    "\n",
    "\n",
    "\n",
    "**Ülesande püstitus**\n",
    "\n",
    "Kõik laused, mis sisaldavad mõnda selle tabeli esimesel lehel (DA) olevat lemmat, mille otseste alluvate hulgas on da-infinitiiv (vist märgendiga inf?). Esimeses veerus võiks olla lause, teises veerus otsitava verbi lemma ja kolmandas veerus da-infinitiivis verbi lemma.\n",
    "\n",
    "Lisaks oleks vaja iga otsitava verbi koguarvu korpuses ja kõigi verbide arvu korpuses (et arvutada assotsiatsioonitugevusi).\n",
    "\n",
    "\n",
    "**Kirjeldus**\n",
    "\n",
    "Tasakaalus korpusest kogutakse kokku järgmisele mallile vastavad esinemised:\n",
    "\n",
    "* peaverbi alluvate seas da-infinitiiv: alluv on verb ja morf kategooriate seal on <code>inf</code>;\n",
    "  \n",
    "\n",
    "\n",
    "**Tulemus**\n",
    "\n",
    "Tulmuseks on tabel sqlite formaadis.\n",
    "\n",
    "Tabeli veerud\n",
    "||||\n",
    "|---|---|---|\n",
    "|**verb**| verbi lemma |---|\n",
    "|**verb_compound**| afiksaaladverbid |---|\n",
    "|**verb_is_aux**| verbil või mõnel verbi alluval on deprel == 'aux'|---|\n",
    "|**verb_feats**| verbi morf kategooriad |---|\n",
    "|**verb_deprel**| verbi deprel |---|\n",
    "|**inf_verb**| verbile alluva infiniitse verbi lemma |---|\n",
    "|**inf_verb_feats**| morf kategooriad|---|\n",
    "|**inf_verb_deprel**| morf kategooriad|---|\n",
    "|**sentence**| lause tekst |---|\n",
    "|**sentence_id**| lause id andmebaasis|---|\n",
    "\n",
    "\n",
    "Lisaks kogutakse ka verbide statistika.\n",
    "\n",
    "Kogutakse eraldi verbi esinemissagedust ja \"sobiva\" verbi sagedust.\n",
    "\n",
    "**Filtreeritud verbidega tabel**\n",
    "\n",
    "Filtreeritud verbidega tabel savelstatakse tsv-formaadis.\n",
    "Tabelisse salvestatakse [verbs_1_da.tsv](verbs_1_da.tsv) nimekirja alusel.\n",
    "\n",
    "\n"
   ]
  },
  {
   "cell_type": "code",
   "execution_count": 3,
   "metadata": {},
   "outputs": [
    {
     "name": "stdout",
     "output_type": "stream",
     "text": [
      "mkdir: img_da/: File exists\n",
      "CPU times: user 2.46 ms, sys: 5.43 ms, total: 7.89 ms\n",
      "Wall time: 456 ms\n"
     ]
    }
   ],
   "source": [
    "%%time\n",
    "\n",
    "file_name = 'data/tasak.vert'\n",
    "\n",
    "my_reader = TasakReader(\n",
    "   file_name = file_name\n",
    ")\n",
    "\n",
    "\n",
    "!mkdir img_da/\n",
    "!rm img_da/*\n"
   ]
  },
  {
   "cell_type": "code",
   "execution_count": 4,
   "metadata": {},
   "outputs": [
    {
     "name": "stdout",
     "output_type": "stream",
     "text": [
      "data/tasak.vert\n"
     ]
    },
    {
     "name": "stderr",
     "output_type": "stream",
     "text": [
      "TSV lines:   9%|▉         | 1815196/20058039 [00:06<01:13, 247432.14it/s]"
     ]
    },
    {
     "name": "stdout",
     "output_type": "stream",
     "text": [
      "andmebaasi salvestatud kollokatsioonid kollektsioonidest: 0 - 346546\n"
     ]
    },
    {
     "name": "stderr",
     "output_type": "stream",
     "text": [
      "/Users/rabauti/repos/eki/prg1978_heete_loendid/venv/lib/python3.12/site-packages/pygraphviz/agraph.py:1407: RuntimeWarning: Warning: gvrender_set_style: unsupported style none - ignoring\n",
      "\n",
      "  warnings.warn(b\"\".join(errors).decode(self.encoding), RuntimeWarning)\n",
      "TSV lines:   9%|▉         | 1894054/20058039 [00:07<01:36, 188047.82it/s]"
     ]
    },
    {
     "name": "stdout",
     "output_type": "stream",
     "text": [
      "Graph image 'img_da/353167_plaanitsema__tegema.png' has been generated.\n"
     ]
    },
    {
     "name": "stderr",
     "output_type": "stream",
     "text": [
      "TSV lines:  18%|█▊        | 3596015/20058039 [00:13<01:08, 240451.61it/s]"
     ]
    },
    {
     "name": "stdout",
     "output_type": "stream",
     "text": [
      "andmebaasi salvestatud kollokatsioonid kollektsioonidest: 0 - 4759049\n"
     ]
    },
    {
     "name": "stderr",
     "output_type": "stream",
     "text": [
      "TSV lines:  18%|█▊        | 3703087/20058039 [00:14<01:27, 187832.37it/s]"
     ]
    },
    {
     "name": "stdout",
     "output_type": "stream",
     "text": [
      "Graph image 'img_da/4792386_plaanitsema__maalima.png' has been generated.\n"
     ]
    },
    {
     "name": "stderr",
     "output_type": "stream",
     "text": [
      "TSV lines:  26%|██▌       | 5227640/20058039 [00:20<01:02, 237273.03it/s]"
     ]
    },
    {
     "name": "stdout",
     "output_type": "stream",
     "text": [
      "andmebaasi salvestatud kollokatsioonid kollektsioonidest: 0 - 7050913\n"
     ]
    },
    {
     "name": "stderr",
     "output_type": "stream",
     "text": [
      "TSV lines:  34%|███▎      | 6749365/20058039 [00:25<00:59, 225314.62it/s]"
     ]
    },
    {
     "name": "stdout",
     "output_type": "stream",
     "text": [
      "andmebaasi salvestatud kollokatsioonid kollektsioonidest: 0 - 7276941\n"
     ]
    },
    {
     "name": "stderr",
     "output_type": "stream",
     "text": [
      "TSV lines:  36%|███▋      | 7272688/20058039 [00:27<01:15, 169317.99it/s]"
     ]
    },
    {
     "name": "stdout",
     "output_type": "stream",
     "text": [
      "Graph image 'img_da/7311346_plaanitsema__salvestama.png' has been generated.\n"
     ]
    },
    {
     "name": "stderr",
     "output_type": "stream",
     "text": [
      "TSV lines:  42%|████▏     | 8348773/20058039 [00:32<01:02, 186577.78it/s]"
     ]
    },
    {
     "name": "stdout",
     "output_type": "stream",
     "text": [
      "andmebaasi salvestatud kollokatsioonid kollektsioonidest: 0 - 7411429\n"
     ]
    },
    {
     "name": "stderr",
     "output_type": "stream",
     "text": [
      "TSV lines:  46%|████▋     | 9308713/20058039 [00:35<00:53, 201392.69it/s]"
     ]
    },
    {
     "name": "stdout",
     "output_type": "stream",
     "text": [
      "Graph image 'img_da/7553557_plaanitsema__tegema.png' has been generated.\n"
     ]
    },
    {
     "name": "stderr",
     "output_type": "stream",
     "text": [
      "TSV lines:  50%|████▉     | 9964740/20058039 [00:38<01:06, 152281.20it/s]"
     ]
    },
    {
     "name": "stdout",
     "output_type": "stream",
     "text": [
      "andmebaasi salvestatud kollokatsioonid kollektsioonidest: 0 - 7714558\n"
     ]
    },
    {
     "name": "stderr",
     "output_type": "stream",
     "text": [
      "TSV lines:  56%|█████▌    | 11135036/20058039 [00:43<00:46, 191839.26it/s]"
     ]
    },
    {
     "name": "stdout",
     "output_type": "stream",
     "text": [
      "Graph image 'img_da/7955560_plaanitsema__sõitma.png' has been generated.\n"
     ]
    },
    {
     "name": "stderr",
     "output_type": "stream",
     "text": [
      "TSV lines:  56%|█████▌    | 11240377/20058039 [00:43<00:47, 184150.31it/s]"
     ]
    },
    {
     "name": "stdout",
     "output_type": "stream",
     "text": [
      "Graph image 'img_da/7961396_plaanitsema__põgenema.png' has been generated.\n"
     ]
    },
    {
     "name": "stderr",
     "output_type": "stream",
     "text": [
      "TSV lines:  58%|█████▊    | 11565524/20058039 [00:45<00:40, 208163.09it/s]"
     ]
    },
    {
     "name": "stdout",
     "output_type": "stream",
     "text": [
      "andmebaasi salvestatud kollokatsioonid kollektsioonidest: 0 - 7986984\n"
     ]
    },
    {
     "name": "stderr",
     "output_type": "stream",
     "text": [
      "TSV lines:  58%|█████▊    | 11724254/20058039 [00:46<00:43, 191858.97it/s]"
     ]
    },
    {
     "name": "stdout",
     "output_type": "stream",
     "text": [
      "Graph image 'img_da/7999134_plaanitsema__talletuma.png' has been generated.\n"
     ]
    },
    {
     "name": "stderr",
     "output_type": "stream",
     "text": [
      "TSV lines:  60%|█████▉    | 12020875/20058039 [00:47<00:41, 194716.50it/s]"
     ]
    },
    {
     "name": "stdout",
     "output_type": "stream",
     "text": [
      "Graph image 'img_da/8017232_plaanitsema__asutama.png' has been generated.\n"
     ]
    },
    {
     "name": "stderr",
     "output_type": "stream",
     "text": [
      "TSV lines:  67%|██████▋   | 13346803/20058039 [00:52<00:34, 193225.14it/s]"
     ]
    },
    {
     "name": "stdout",
     "output_type": "stream",
     "text": [
      "andmebaasi salvestatud kollokatsioonid kollektsioonidest: 0 - 8489464\n"
     ]
    },
    {
     "name": "stderr",
     "output_type": "stream",
     "text": [
      "TSV lines:  68%|██████▊   | 13694290/20058039 [00:54<00:32, 194180.33it/s]"
     ]
    },
    {
     "name": "stdout",
     "output_type": "stream",
     "text": [
      "Graph image 'img_da/8507141_kibelema__ammuma.png' has been generated.\n"
     ]
    },
    {
     "name": "stderr",
     "output_type": "stream",
     "text": [
      "TSV lines:  71%|███████   | 14159005/20058039 [00:56<00:31, 187785.89it/s]"
     ]
    },
    {
     "name": "stdout",
     "output_type": "stream",
     "text": [
      "Graph image 'img_da/8602892_plaanitsema__sõitma.png' has been generated.\n"
     ]
    },
    {
     "name": "stderr",
     "output_type": "stream",
     "text": [
      "TSV lines:  75%|███████▍  | 14945339/20058039 [00:59<00:25, 200322.92it/s]"
     ]
    },
    {
     "name": "stdout",
     "output_type": "stream",
     "text": [
      "andmebaasi salvestatud kollokatsioonid kollektsioonidest: 0 - 8807195\n"
     ]
    },
    {
     "name": "stderr",
     "output_type": "stream",
     "text": [
      "TSV lines:  76%|███████▌  | 15242664/20058039 [01:00<00:24, 200237.38it/s]"
     ]
    },
    {
     "name": "stdout",
     "output_type": "stream",
     "text": [
      "Graph image 'img_da/8824811_kibelema__selgitama.png' has been generated.\n"
     ]
    },
    {
     "name": "stderr",
     "output_type": "stream",
     "text": [
      "TSV lines:  81%|████████  | 16270087/20058039 [01:04<00:19, 194885.64it/s]"
     ]
    },
    {
     "name": "stdout",
     "output_type": "stream",
     "text": [
      "Graph image 'img_da/9829255_plaanitsema__kirjutama.png' has been generated.\n"
     ]
    },
    {
     "name": "stderr",
     "output_type": "stream",
     "text": [
      "TSV lines:  83%|████████▎ | 16594505/20058039 [01:06<00:16, 208944.32it/s]"
     ]
    },
    {
     "name": "stdout",
     "output_type": "stream",
     "text": [
      "andmebaasi salvestatud kollokatsioonid kollektsioonidest: 0 - 10136385\n"
     ]
    },
    {
     "name": "stderr",
     "output_type": "stream",
     "text": [
      "TSV lines:  90%|█████████ | 18128962/20058039 [01:12<00:09, 196447.94it/s]"
     ]
    },
    {
     "name": "stdout",
     "output_type": "stream",
     "text": [
      "Graph image 'img_da/13992378_plaanitsema__muutma.png' has been generated.\n"
     ]
    },
    {
     "name": "stderr",
     "output_type": "stream",
     "text": [
      "TSV lines:  91%|█████████ | 18207203/20058039 [01:12<00:10, 170023.15it/s]"
     ]
    },
    {
     "name": "stdout",
     "output_type": "stream",
     "text": [
      "andmebaasi salvestatud kollokatsioonid kollektsioonidest: 0 - 14295795\n"
     ]
    },
    {
     "name": "stderr",
     "output_type": "stream",
     "text": [
      "TSV lines:  91%|█████████▏| 18340599/20058039 [01:13<00:09, 183987.49it/s]"
     ]
    },
    {
     "name": "stdout",
     "output_type": "stream",
     "text": [
      "Graph image 'img_da/15137567_plaanitsema__maksma.png' has been generated.\n"
     ]
    },
    {
     "name": "stderr",
     "output_type": "stream",
     "text": [
      "TSV lines:  99%|█████████▉| 19903477/20058039 [01:19<00:00, 208171.29it/s]"
     ]
    },
    {
     "name": "stdout",
     "output_type": "stream",
     "text": [
      "andmebaasi salvestatud kollokatsioonid kollektsioonidest: 0 - 18956465\n"
     ]
    },
    {
     "name": "stderr",
     "output_type": "stream",
     "text": [
      "TSV lines: 100%|██████████| 20058039/20058039 [01:20<00:00, 250453.69it/s]\n"
     ]
    },
    {
     "name": "stdout",
     "output_type": "stream",
     "text": [
      "andmebaasi salvestatud kollokatsioonid kollektsioonidest: 0 - 18969731\n",
      "CPU times: user 1min 14s, sys: 1.7 s, total: 1min 16s\n",
      "Wall time: 1min 20s\n"
     ]
    }
   ],
   "source": [
    "%%time\n",
    "\n",
    "TYPE = 'da_laused'\n",
    "TABLENAME = f'{TYPE}'\n",
    "BATCH_SIZE = 100000\n",
    "\n",
    "date_time = datetime.now().strftime(\"%Y%m%d-%H%M%S\")\n",
    "db_file_name = f\"tasak_{TYPE}_{date_time}.sqlite\"\n",
    "\n",
    "my_sqlite_db = DbMethods(db_file_name=db_file_name, table1_name=TYPE, table2_name=TYPE+'_examples')\n",
    "my_sqlite_db.prep_coll_db()\n",
    "\n",
    "\n",
    "# hoitakse algusest lõpuni mälus\n",
    "verb_global_stat = {}\n",
    "\n",
    "# kollokatsioonid, tühjendatakse peale igat salvestamist\n",
    "collocations = []\n",
    "count = 0\n",
    "for collection_id, graph in my_reader.get_sentences():\n",
    "    \n",
    "    count += 1\n",
    "    if not collection_id:\n",
    "        collection_id = count\n",
    "\n",
    "    #print(f'-------------{collection_id}-----------')\n",
    "    #print(str(graph))\n",
    "\n",
    "    \n",
    "    collocations, verb_global_stat, = extract_something(graph, collection_id, collocations, verb_global_stat )\n",
    "    \n",
    "\n",
    "\n",
    "\n",
    "    if not collection_id == 0 and not count % BATCH_SIZE:\n",
    "        my_sqlite_db.save_coll_to_db(collocations, collection_id)\n",
    "        collocations = []\n",
    "        \n",
    "   \n",
    "    \n",
    "    \n",
    "# saving last batch\n",
    "my_sqlite_db.save_coll_to_db(collocations, collection_id)\n",
    "\n",
    "#my_sqlite_db.index_fields()"
   ]
  },
  {
   "cell_type": "code",
   "execution_count": 5,
   "metadata": {},
   "outputs": [
    {
     "data": {
      "text/html": [
       "<div>\n",
       "<style scoped>\n",
       "    .dataframe tbody tr th:only-of-type {\n",
       "        vertical-align: middle;\n",
       "    }\n",
       "\n",
       "    .dataframe tbody tr th {\n",
       "        vertical-align: top;\n",
       "    }\n",
       "\n",
       "    .dataframe thead th {\n",
       "        text-align: right;\n",
       "    }\n",
       "</style>\n",
       "<table border=\"1\" class=\"dataframe\">\n",
       "  <thead>\n",
       "    <tr style=\"text-align: right;\">\n",
       "      <th></th>\n",
       "      <th>verb</th>\n",
       "    </tr>\n",
       "  </thead>\n",
       "  <tbody>\n",
       "    <tr>\n",
       "      <th>0</th>\n",
       "      <td>saama</td>\n",
       "    </tr>\n",
       "    <tr>\n",
       "      <th>1</th>\n",
       "      <td>suutma</td>\n",
       "    </tr>\n",
       "    <tr>\n",
       "      <th>2</th>\n",
       "      <td>jaksama</td>\n",
       "    </tr>\n",
       "    <tr>\n",
       "      <th>3</th>\n",
       "      <td>jõudma</td>\n",
       "    </tr>\n",
       "    <tr>\n",
       "      <th>4</th>\n",
       "      <td>nägema</td>\n",
       "    </tr>\n",
       "  </tbody>\n",
       "</table>\n",
       "</div>"
      ],
      "text/plain": [
       "      verb\n",
       "0    saama\n",
       "1   suutma\n",
       "2  jaksama\n",
       "3   jõudma\n",
       "4   nägema"
      ]
     },
     "metadata": {},
     "output_type": "display_data"
    },
    {
     "data": {
      "text/html": [
       "<div>\n",
       "<style scoped>\n",
       "    .dataframe tbody tr th:only-of-type {\n",
       "        vertical-align: middle;\n",
       "    }\n",
       "\n",
       "    .dataframe tbody tr th {\n",
       "        vertical-align: top;\n",
       "    }\n",
       "\n",
       "    .dataframe thead th {\n",
       "        text-align: right;\n",
       "    }\n",
       "</style>\n",
       "<table border=\"1\" class=\"dataframe\">\n",
       "  <thead>\n",
       "    <tr style=\"text-align: right;\">\n",
       "      <th></th>\n",
       "      <th>id</th>\n",
       "      <th>verb</th>\n",
       "      <th>verb_compound</th>\n",
       "      <th>verb_feats</th>\n",
       "      <th>verb_is_aux</th>\n",
       "      <th>verb_deprel</th>\n",
       "      <th>inf_verb</th>\n",
       "      <th>inf_verb_feats</th>\n",
       "      <th>inf_verb_deprel</th>\n",
       "      <th>sentence</th>\n",
       "      <th>sentence_id</th>\n",
       "      <th>verb_compound_list</th>\n",
       "    </tr>\n",
       "  </thead>\n",
       "  <tbody>\n",
       "    <tr>\n",
       "      <th>0</th>\n",
       "      <td>1</td>\n",
       "      <td>tulema</td>\n",
       "      <td></td>\n",
       "      <td>af,ps,sg,aux,ps3,pres,indic</td>\n",
       "      <td>0</td>\n",
       "      <td>csubj:cop</td>\n",
       "      <td>kasutama</td>\n",
       "      <td>inf,mod</td>\n",
       "      <td>csubj</td>\n",
       "      <td>Pole üllatav , et ekstremaaltingimustes ( kiir...</td>\n",
       "      <td>189871</td>\n",
       "      <td>[]</td>\n",
       "    </tr>\n",
       "    <tr>\n",
       "      <th>1</th>\n",
       "      <td>2</td>\n",
       "      <td>üritama</td>\n",
       "      <td></td>\n",
       "      <td>ps,aux,sup,abes</td>\n",
       "      <td>0</td>\n",
       "      <td>advcl</td>\n",
       "      <td>jutustama</td>\n",
       "      <td>aux,inf</td>\n",
       "      <td>xcomp</td>\n",
       "      <td>___Üritamata___ seda raamatut ümber ___jutusta...</td>\n",
       "      <td>189873</td>\n",
       "      <td>[]</td>\n",
       "    </tr>\n",
       "    <tr>\n",
       "      <th>2</th>\n",
       "      <td>3</td>\n",
       "      <td>tulema</td>\n",
       "      <td></td>\n",
       "      <td>af,ps,sg,ps3,main,pres,indic</td>\n",
       "      <td>0</td>\n",
       "      <td>root</td>\n",
       "      <td>lugema</td>\n",
       "      <td>inf,mod</td>\n",
       "      <td>csubj</td>\n",
       "      <td>Ekstremaalprogrammeerimise tehnoloogiaga tutvu...</td>\n",
       "      <td>189874</td>\n",
       "      <td>[]</td>\n",
       "    </tr>\n",
       "    <tr>\n",
       "      <th>3</th>\n",
       "      <td>4</td>\n",
       "      <td>jõudma</td>\n",
       "      <td></td>\n",
       "      <td>af,ps,sg,aux,ps3,pres,indic</td>\n",
       "      <td>0</td>\n",
       "      <td>root</td>\n",
       "      <td>täiendama</td>\n",
       "      <td>aux,inf</td>\n",
       "      <td>csubj</td>\n",
       "      <td>___Täiendada___ ___jõuab___ alati .</td>\n",
       "      <td>189879</td>\n",
       "      <td>[]</td>\n",
       "    </tr>\n",
       "    <tr>\n",
       "      <th>4</th>\n",
       "      <td>5</td>\n",
       "      <td>õpetama</td>\n",
       "      <td></td>\n",
       "      <td>ps,ill,sup,main</td>\n",
       "      <td>1</td>\n",
       "      <td>acl:relcl</td>\n",
       "      <td>lugema</td>\n",
       "      <td>inf,mod</td>\n",
       "      <td>advcl</td>\n",
       "      <td>Tõepoolest , näiteks õppejõudude kvalifikatsio...</td>\n",
       "      <td>189899</td>\n",
       "      <td>[]</td>\n",
       "    </tr>\n",
       "  </tbody>\n",
       "</table>\n",
       "</div>"
      ],
      "text/plain": [
       "   id     verb verb_compound                    verb_feats  verb_is_aux  \\\n",
       "0   1   tulema                 af,ps,sg,aux,ps3,pres,indic            0   \n",
       "1   2  üritama                             ps,aux,sup,abes            0   \n",
       "2   3   tulema                af,ps,sg,ps3,main,pres,indic            0   \n",
       "3   4   jõudma                 af,ps,sg,aux,ps3,pres,indic            0   \n",
       "4   5  õpetama                             ps,ill,sup,main            1   \n",
       "\n",
       "  verb_deprel   inf_verb inf_verb_feats inf_verb_deprel  \\\n",
       "0   csubj:cop   kasutama        inf,mod           csubj   \n",
       "1       advcl  jutustama        aux,inf           xcomp   \n",
       "2        root     lugema        inf,mod           csubj   \n",
       "3        root  täiendama        aux,inf           csubj   \n",
       "4   acl:relcl     lugema        inf,mod           advcl   \n",
       "\n",
       "                                            sentence sentence_id  \\\n",
       "0  Pole üllatav , et ekstremaaltingimustes ( kiir...      189871   \n",
       "1  ___Üritamata___ seda raamatut ümber ___jutusta...      189873   \n",
       "2  Ekstremaalprogrammeerimise tehnoloogiaga tutvu...      189874   \n",
       "3                ___Täiendada___ ___jõuab___ alati .      189879   \n",
       "4  Tõepoolest , näiteks õppejõudude kvalifikatsio...      189899   \n",
       "\n",
       "  verb_compound_list  \n",
       "0                 []  \n",
       "1                 []  \n",
       "2                 []  \n",
       "3                 []  \n",
       "4                 []  "
      ]
     },
     "metadata": {},
     "output_type": "display_data"
    },
    {
     "data": {
      "text/plain": [
       "(159341, 12)"
      ]
     },
     "metadata": {},
     "output_type": "display_data"
    },
    {
     "data": {
      "text/plain": [
       "(64030, 11)"
      ]
     },
     "metadata": {},
     "output_type": "display_data"
    }
   ],
   "source": [
    "# Salvestatud andmete filtreerimine ja tsv faili salvestamine\n",
    "import pandas as pd\n",
    "import sqlite3 as sqlite\n",
    "df_verbs = pd.read_csv(\"verbs_1_da.tsv\", sep=\"\\t\")\n",
    "df_verbs.fillna('', inplace=True)\n",
    "display(df_verbs.head())\n",
    "verbs = df_verbs['verb'].to_list()\n",
    "\n",
    "\n",
    "db_conn = sqlite.connect(db_file_name)\n",
    "\n",
    "df = pd.read_sql('SELECT * FROM da_laused', db_conn)\n",
    "df['verb_compound_list'] = df.verb_compound.apply(lambda x: x.split(','))\n",
    "\n",
    "display(df.head())\n",
    "display(df.shape)\n",
    "\n",
    "def do_delete(row):\n",
    "    global verbs\n",
    "    for cmp in row['verb_compound_list']:\n",
    "        key = (cmp + ' ' +  row['verb']).strip()\n",
    "        #if row['verb'] == 'leppima':\n",
    "        #    print(key)\n",
    "        if key in verbs:\n",
    "            #print(key)\n",
    "            return False\n",
    "    return True\n",
    "\n",
    "df['delete'] = df.apply(do_delete, axis=1)\n",
    "\n",
    "df = df[df['delete'] == False]\n",
    "del df['verb_compound_list']\n",
    "del df['delete']\n",
    "display(df.shape)\n",
    "df.to_csv(db_file_name+'_final.tsv', index=None) "
   ]
  },
  {
   "cell_type": "code",
   "execution_count": 6,
   "metadata": {},
   "outputs": [
    {
     "data": {
      "text/plain": [
       "['saama',\n",
       " 'suutma',\n",
       " 'jaksama',\n",
       " 'jõudma',\n",
       " 'nägema',\n",
       " 'oskama',\n",
       " 'teadma',\n",
       " 'mõistma',\n",
       " 'tohtima',\n",
       " 'võima',\n",
       " 'tahtma',\n",
       " 'kavatsema',\n",
       " 'plaanima',\n",
       " 'otsustama',\n",
       " 'lootma',\n",
       " 'soovima',\n",
       " 'igatsema',\n",
       " 'ihkama',\n",
       " 'maldama',\n",
       " 'kärsima',\n",
       " 'läbema',\n",
       " 'unistama',\n",
       " 'ootama',\n",
       " 'himustama',\n",
       " 'taotlema',\n",
       " 'ilgema',\n",
       " 'sügelema',\n",
       " 'kibelema',\n",
       " 'janunema',\n",
       " 'kaaluma',\n",
       " 'kavandama',\n",
       " 'kokku leppima',\n",
       " 'mõtlema',\n",
       " 'plaanitsema',\n",
       " 'planeerima',\n",
       " 'sihtima',\n",
       " 'märkama',\n",
       " 'taipama',\n",
       " 'unustama',\n",
       " 'kartma',\n",
       " 'häbenema',\n",
       " 'armastama',\n",
       " 'eelistama',\n",
       " 'julgema',\n",
       " 'söandama',\n",
       " 'tihkama',\n",
       " 'riskima',\n",
       " 'usaldama',\n",
       " 'riskeerima',\n",
       " 'uskuma',\n",
       " 'suvatsema',\n",
       " 'viitsima',\n",
       " 'paljuks pidama',\n",
       " 'raatsima',\n",
       " 'täima',\n",
       " 'vaevaks võtma',\n",
       " 'pelgama',\n",
       " 'põlgama',\n",
       " 'tõrkuma',\n",
       " 'kõhklema',\n",
       " 'pruukima',\n",
       " 'tarvitsema',\n",
       " 'lubama',\n",
       " 'ähvardama',\n",
       " 'tõotama',\n",
       " 'vanduma',\n",
       " 'proovima',\n",
       " 'püüdma',\n",
       " 'katsuma',\n",
       " 'üritama',\n",
       " 'tavatsema',\n",
       " 'harrastama',\n",
       " 'väärima']"
      ]
     },
     "execution_count": 6,
     "metadata": {},
     "output_type": "execute_result"
    }
   ],
   "source": [
    "verbs"
   ]
  }
 ],
 "metadata": {
  "kernelspec": {
   "display_name": "venv",
   "language": "python",
   "name": "python3"
  },
  "language_info": {
   "codemirror_mode": {
    "name": "ipython",
    "version": 3
   },
   "file_extension": ".py",
   "mimetype": "text/x-python",
   "name": "python",
   "nbconvert_exporter": "python",
   "pygments_lexer": "ipython3",
   "version": "3.12.3"
  }
 },
 "nbformat": 4,
 "nbformat_minor": 2
}
