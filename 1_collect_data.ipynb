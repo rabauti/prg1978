{
 "cells": [
  {
   "cell_type": "code",
   "execution_count": 1,
   "id": "c690caa9-e526-47db-addc-436809fdc379",
   "metadata": {},
   "outputs": [],
   "source": [
    "%load_ext autoreload\n",
    "%autoreload 2"
   ]
  },
  {
   "cell_type": "code",
   "execution_count": 2,
   "id": "43d66189-f326-4768-9854-005e2de3483c",
   "metadata": {},
   "outputs": [],
   "source": [
    "from datetime import datetime\n",
    "\n",
    "from data_helpers.syntax_graph import SyntaxGraph\n",
    "from data_helpers.tasak_reader import TasakReader\n",
    "\n",
    "# functions for creating database and collecting collocations\n",
    "from collect_functions_1 import *\n"
   ]
  },
  {
   "cell_type": "markdown",
   "id": "bbf2887c-f27e-41c7-9434-9a347eb9495e",
   "metadata": {},
   "source": [
    "# Tabel 1 andmete kogumine"
   ]
  },
  {
   "cell_type": "code",
   "execution_count": 3,
   "id": "37feb3ac-ac39-422b-ad7f-380d9d17d302",
   "metadata": {},
   "outputs": [
    {
     "name": "stdout",
     "output_type": "stream",
     "text": [
      "CPU times: user 22 µs, sys: 2 µs, total: 24 µs\n",
      "Wall time: 23.8 µs\n"
     ]
    }
   ],
   "source": [
    "%%time\n",
    "\n",
    "file_name = 'data/tasak.vert'\n",
    "\n",
    "my_reader = TasakReader(\n",
    "   file_name = file_name\n",
    ")"
   ]
  },
  {
   "cell_type": "code",
   "execution_count": 4,
   "id": "c292fed5-67e0-47fc-a408-eb6af8740672",
   "metadata": {},
   "outputs": [
    {
     "name": "stdout",
     "output_type": "stream",
     "text": [
      "CPU times: user 14.4 s, sys: 104 ms, total: 14.5 s\n",
      "Wall time: 14.6 s\n"
     ]
    },
    {
     "data": {
      "text/plain": [
       "1550618"
      ]
     },
     "execution_count": 4,
     "metadata": {},
     "output_type": "execute_result"
    }
   ],
   "source": [
    "%%time\n",
    "advtypes_dict = make_advtypes_dict_from_tsv('advtypes/result/advtype_df.csv')\n",
    "len(advtypes_dict)"
   ]
  },
  {
   "cell_type": "code",
   "execution_count": 5,
   "id": "066324cb-955d-4de9-a5e2-be716dccd2f7",
   "metadata": {
    "tags": []
   },
   "outputs": [
    {
     "name": "stdout",
     "output_type": "stream",
     "text": [
      "data/tasak.vert\n"
     ]
    },
    {
     "name": "stderr",
     "output_type": "stream",
     "text": [
      "TSV lines:   1%|██                                                                                                                                                                                               | 209032/20058039 [00:00<01:32, 214899.32it/s]"
     ]
    },
    {
     "name": "stdout",
     "output_type": "stream",
     "text": [
      "andmebaasi salvestatud kollokatsioonid kollektsioonidest: 0 - 200000\n"
     ]
    },
    {
     "name": "stderr",
     "output_type": "stream",
     "text": [
      "TSV lines:   6%|████████████▎                                                                                                                                                                                   | 1291804/20058039 [00:05<02:03, 151588.26it/s]"
     ]
    },
    {
     "name": "stdout",
     "output_type": "stream",
     "text": [
      "andmebaasi salvestatud kollokatsioonid kollektsioonidest: 0 - 300000\n"
     ]
    },
    {
     "name": "stderr",
     "output_type": "stream",
     "text": [
      "TSV lines:  24%|█████████████████████████████████████████████▋                                                                                                                                                   | 4749171/20058039 [00:22<03:24, 74965.43it/s]"
     ]
    },
    {
     "name": "stdout",
     "output_type": "stream",
     "text": [
      "andmebaasi salvestatud kollokatsioonid kollektsioonidest: 0 - 6900000\n"
     ]
    },
    {
     "name": "stderr",
     "output_type": "stream",
     "text": [
      "TSV lines:  29%|███████████████████████████████████████████████████████▉                                                                                                                                         | 5816106/20058039 [00:28<02:54, 81638.33it/s]"
     ]
    },
    {
     "name": "stdout",
     "output_type": "stream",
     "text": [
      "andmebaasi salvestatud kollokatsioonid kollektsioonidest: 0 - 7100000\n"
     ]
    },
    {
     "name": "stderr",
     "output_type": "stream",
     "text": [
      "TSV lines:  41%|██████████████████████████████████████████████████████████████████████████████▉                                                                                                                  | 8202679/20058039 [00:40<02:57, 66936.82it/s]"
     ]
    },
    {
     "name": "stdout",
     "output_type": "stream",
     "text": [
      "andmebaasi salvestatud kollokatsioonid kollektsioonidest: 0 - 7400000\n"
     ]
    },
    {
     "name": "stderr",
     "output_type": "stream",
     "text": [
      "TSV lines:  43%|███████████████████████████████████████████████████████████████████████████████████▎                                                                                                            | 8698178/20058039 [00:43<01:39, 114043.00it/s]"
     ]
    },
    {
     "name": "stdout",
     "output_type": "stream",
     "text": [
      "andmebaasi salvestatud kollokatsioonid kollektsioonidest: 0 - 7500000\n"
     ]
    },
    {
     "name": "stderr",
     "output_type": "stream",
     "text": [
      "TSV lines:  52%|████████████████████████████████████████████████████████████████████████████████████████████████████▎                                                                                           | 10477298/20058039 [00:52<02:21, 67805.25it/s]"
     ]
    },
    {
     "name": "stdout",
     "output_type": "stream",
     "text": [
      "andmebaasi salvestatud kollokatsioonid kollektsioonidest: 0 - 7900000\n"
     ]
    },
    {
     "name": "stderr",
     "output_type": "stream",
     "text": [
      "TSV lines:  58%|████████████████████████████████████████████████████████████████████████████████████████████████████████████████                                                                                | 11701134/20058039 [00:59<01:48, 76755.38it/s]"
     ]
    },
    {
     "name": "stdout",
     "output_type": "stream",
     "text": [
      "andmebaasi salvestatud kollokatsioonid kollektsioonidest: 0 - 8000000\n"
     ]
    },
    {
     "name": "stderr",
     "output_type": "stream",
     "text": [
      "TSV lines:  64%|██████████████████████████████████████████████████████████████████████████████████████████████████████████████████████████▍                                                                     | 12794013/20058039 [01:05<01:36, 74927.23it/s]"
     ]
    },
    {
     "name": "stdout",
     "output_type": "stream",
     "text": [
      "andmebaasi salvestatud kollokatsioonid kollektsioonidest: 0 - 8400000\n"
     ]
    },
    {
     "name": "stderr",
     "output_type": "stream",
     "text": [
      "TSV lines:  67%|████████████████████████████████████████████████████████████████████████████████████████████████████████████████████████████████▋                                                              | 13519998/20058039 [01:09<00:54, 120895.67it/s]"
     ]
    },
    {
     "name": "stdout",
     "output_type": "stream",
     "text": [
      "andmebaasi salvestatud kollokatsioonid kollektsioonidest: 0 - 8500000\n"
     ]
    },
    {
     "name": "stderr",
     "output_type": "stream",
     "text": [
      "TSV lines:  70%|██████████████████████████████████████████████████████████████████████████████████████████████████████████████████████████████████████▋                                                         | 14073676/20058039 [01:12<01:00, 98852.09it/s]"
     ]
    },
    {
     "name": "stdout",
     "output_type": "stream",
     "text": [
      "andmebaasi salvestatud kollokatsioonid kollektsioonidest: 0 - 8600000\n"
     ]
    },
    {
     "name": "stderr",
     "output_type": "stream",
     "text": [
      "TSV lines:  73%|██████████████████████████████████████████████████████████████████████████████████████████████████████████████████████████████████████████▋                                                    | 14558416/20058039 [01:15<00:54, 101614.59it/s]"
     ]
    },
    {
     "name": "stdout",
     "output_type": "stream",
     "text": [
      "andmebaasi salvestatud kollokatsioonid kollektsioonidest: 0 - 8700000\n"
     ]
    },
    {
     "name": "stderr",
     "output_type": "stream",
     "text": [
      "TSV lines:  82%|████████████████████████████████████████████████████████████████████████████████████████████████████████████████████████████████████████████████████████████▊                                   | 16379255/20058039 [01:25<00:48, 75330.26it/s]"
     ]
    },
    {
     "name": "stdout",
     "output_type": "stream",
     "text": [
      "andmebaasi salvestatud kollokatsioonid kollektsioonidest: 0 - 9900000\n"
     ]
    },
    {
     "name": "stderr",
     "output_type": "stream",
     "text": [
      "TSV lines: 100%|███████████████████████████████████████████████████████████████████████████████████████████████████████████████████████████████████████████████████████████████████████████████████████████████| 20058039/20058039 [01:42<00:00, 194890.54it/s]\n"
     ]
    },
    {
     "name": "stdout",
     "output_type": "stream",
     "text": [
      "andmebaasi salvestatud kollokatsioonid kollektsioonidest: 0 - 18969731\n",
      "Verb stat saved to  tasak_verb_kids_20240112-173039.csv\n",
      "done.\n",
      "CPU times: user 1min 43s, sys: 5.33 s, total: 1min 49s\n",
      "Wall time: 1min 50s\n"
     ]
    }
   ],
   "source": [
    "%%time\n",
    "\n",
    "TYPE = 'obl_verb'\n",
    "TABLENAME = f'{TYPE}'\n",
    "BATCH_SIZE = 100000\n",
    "\n",
    "date_time = datetime.now().strftime(\"%Y%m%d-%H%M%S\")\n",
    "db_file_name = f\"tasak_{TYPE}_collocations_{date_time}.db\"\n",
    "\n",
    "my_sqlite_db = DbMethods(db_file_name=db_file_name, table1_name=TYPE, table2_name=TYPE+'_examples')\n",
    "my_sqlite_db.prep_coll_db()\n",
    "\n",
    "\n",
    "# hoitakse algusest lõpuni mälus\n",
    "verb_global_stat = {}\n",
    "\n",
    "# kollokatsioonid, tühjendatakse peale igat salvestamist\n",
    "collocations = {}\n",
    "count = 0\n",
    "for collection_id, graph in my_reader.get_sentences():\n",
    "    collection_id = int(collection_id)\n",
    "    count += 1\n",
    "    collocations, verb_global_stat, = extract_something(graph, collection_id, collocations, verb_global_stat, advtypes_dict)\n",
    "    if not collection_id == 0 and not collection_id % BATCH_SIZE:\n",
    "        my_sqlite_db.save_coll_to_db(collocations, collection_id)\n",
    "        collocations = {}\n",
    "    \n",
    "    \n",
    "# saving last batch\n",
    "my_sqlite_db.save_coll_to_db(collocations, collection_id)\n",
    "collocations = {}\n",
    "my_sqlite_db.index_fields()\n",
    "\n",
    "df = verb_stat_to_df(verb_global_stat, f'tasak_verb_kids_{date_time}.csv')\n",
    "df.to_sql(name='verbs_global_stat', con=my_sqlite_db._connection)\n",
    "\n",
    "print('done.')"
   ]
  },
  {
   "cell_type": "code",
   "execution_count": null,
   "id": "da33cd47-98cd-4169-b904-f261cb2b8963",
   "metadata": {},
   "outputs": [],
   "source": []
  }
 ],
 "metadata": {
  "kernelspec": {
   "display_name": "prg1978_3.12",
   "language": "python",
   "name": "prg1978_3.12"
  },
  "language_info": {
   "codemirror_mode": {
    "name": "ipython",
    "version": 3
   },
   "file_extension": ".py",
   "mimetype": "text/x-python",
   "name": "python",
   "nbconvert_exporter": "python",
   "pygments_lexer": "ipython3",
   "version": "3.12.1"
  }
 },
 "nbformat": 4,
 "nbformat_minor": 5
}
