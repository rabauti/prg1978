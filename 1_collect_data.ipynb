{
 "cells": [
  {
   "cell_type": "code",
   "execution_count": 1,
   "id": "c690caa9-e526-47db-addc-436809fdc379",
   "metadata": {},
   "outputs": [],
   "source": [
    "%load_ext autoreload\n",
    "%autoreload 2"
   ]
  },
  {
   "cell_type": "code",
   "execution_count": 2,
   "id": "43d66189-f326-4768-9854-005e2de3483c",
   "metadata": {},
   "outputs": [],
   "source": [
    "from datetime import datetime\n",
    "\n",
    "from data_helpers.syntax_graph import SyntaxGraph\n",
    "from data_helpers.tasak_reader import TasakReader\n",
    "\n",
    "# functions for creating database and collecting collocations\n",
    "from collect_functions_1 import *\n"
   ]
  },
  {
   "cell_type": "markdown",
   "id": "bbf2887c-f27e-41c7-9434-9a347eb9495e",
   "metadata": {},
   "source": [
    "# Tabel 1 andmete kogumine"
   ]
  },
  {
   "cell_type": "code",
   "execution_count": 3,
   "id": "37feb3ac-ac39-422b-ad7f-380d9d17d302",
   "metadata": {},
   "outputs": [
    {
     "name": "stdout",
     "output_type": "stream",
     "text": [
      "CPU times: user 64 µs, sys: 2 µs, total: 66 µs\n",
      "Wall time: 85.8 µs\n"
     ]
    }
   ],
   "source": [
    "%%time\n",
    "\n",
    "file_name = 'data/tasak.vert'\n",
    "\n",
    "my_reader = TasakReader(\n",
    "   file_name = file_name\n",
    ")"
   ]
  },
  {
   "cell_type": "code",
   "execution_count": 6,
   "id": "066324cb-955d-4de9-a5e2-be716dccd2f7",
   "metadata": {
    "tags": []
   },
   "outputs": [
    {
     "name": "stdout",
     "output_type": "stream",
     "text": [
      "data/tasak.vert\n"
     ]
    },
    {
     "name": "stderr",
     "output_type": "stream",
     "text": [
      "TSV lines:   1%|█▎                                                                                                                                             | 175959/20058039 [00:02<05:36, 59086.46it/s]"
     ]
    },
    {
     "name": "stdout",
     "output_type": "stream",
     "text": [
      "andmebaasi salvestatud kollokatsioonid kollektsioonidest: 0 - 200000\n"
     ]
    },
    {
     "name": "stderr",
     "output_type": "stream",
     "text": [
      "TSV lines:   6%|█████████                                                                                                                                     | 1277192/20058039 [00:20<08:51, 35310.33it/s]"
     ]
    },
    {
     "name": "stdout",
     "output_type": "stream",
     "text": [
      "andmebaasi salvestatud kollokatsioonid kollektsioonidest: 0 - 300000\n"
     ]
    },
    {
     "name": "stderr",
     "output_type": "stream",
     "text": [
      "TSV lines:  24%|█████████████████████████████████▍                                                                                                            | 4721761/20058039 [01:22<23:10, 11030.89it/s]"
     ]
    },
    {
     "name": "stdout",
     "output_type": "stream",
     "text": [
      "andmebaasi salvestatud kollokatsioonid kollektsioonidest: 0 - 6900000\n"
     ]
    },
    {
     "name": "stderr",
     "output_type": "stream",
     "text": [
      "TSV lines:  29%|█████████████████████████████████████████▎                                                                                                     | 5787250/20058039 [01:46<25:16, 9409.02it/s]"
     ]
    },
    {
     "name": "stdout",
     "output_type": "stream",
     "text": [
      "andmebaasi salvestatud kollokatsioonid kollektsioonidest: 0 - 7100000\n"
     ]
    },
    {
     "name": "stderr",
     "output_type": "stream",
     "text": [
      "TSV lines:  41%|██████████████████████████████████████████████████████████▎                                                                                    | 8177278/20058039 [02:30<21:53, 9045.38it/s]"
     ]
    },
    {
     "name": "stdout",
     "output_type": "stream",
     "text": [
      "andmebaasi salvestatud kollokatsioonid kollektsioonidest: 0 - 7400000\n"
     ]
    },
    {
     "name": "stderr",
     "output_type": "stream",
     "text": [
      "TSV lines:  43%|█████████████████████████████████████████████████████████████▍                                                                                | 8677973/20058039 [02:42<13:13, 14341.39it/s]"
     ]
    },
    {
     "name": "stdout",
     "output_type": "stream",
     "text": [
      "andmebaasi salvestatud kollokatsioonid kollektsioonidest: 0 - 7500000\n"
     ]
    },
    {
     "name": "stderr",
     "output_type": "stream",
     "text": [
      "TSV lines:  52%|█████████████████████████████████████████████████████████████████████████▌                                                                   | 10455878/20058039 [03:16<15:12, 10517.31it/s]"
     ]
    },
    {
     "name": "stdout",
     "output_type": "stream",
     "text": [
      "andmebaasi salvestatud kollokatsioonid kollektsioonidest: 0 - 7900000\n"
     ]
    },
    {
     "name": "stderr",
     "output_type": "stream",
     "text": [
      "TSV lines:  58%|██████████████████████████████████████████████████████████████████████████████████                                                           | 11675726/20058039 [03:44<12:47, 10920.92it/s]"
     ]
    },
    {
     "name": "stdout",
     "output_type": "stream",
     "text": [
      "andmebaasi salvestatud kollokatsioonid kollektsioonidest: 0 - 8000000\n"
     ]
    },
    {
     "name": "stderr",
     "output_type": "stream",
     "text": [
      "TSV lines:  64%|██████████████████████████████████████████████████████████████████████████████████████████▎                                                   | 12756897/20058039 [04:07<15:46, 7712.32it/s]"
     ]
    },
    {
     "name": "stdout",
     "output_type": "stream",
     "text": [
      "andmebaasi salvestatud kollokatsioonid kollektsioonidest: 0 - 8400000\n"
     ]
    },
    {
     "name": "stderr",
     "output_type": "stream",
     "text": [
      "TSV lines:  67%|██████████████████████████████████████████████████████████████████████████████████████████████▉                                              | 13503696/20058039 [04:21<04:36, 23704.85it/s]"
     ]
    },
    {
     "name": "stdout",
     "output_type": "stream",
     "text": [
      "andmebaasi salvestatud kollokatsioonid kollektsioonidest: 0 - 8500000\n"
     ]
    },
    {
     "name": "stderr",
     "output_type": "stream",
     "text": [
      "TSV lines:  70%|███████████████████████████████████████████████████████████████████████████████████████████████████▍                                          | 14045751/20058039 [04:32<10:20, 9683.91it/s]"
     ]
    },
    {
     "name": "stdout",
     "output_type": "stream",
     "text": [
      "andmebaasi salvestatud kollokatsioonid kollektsioonidest: 0 - 8600000\n"
     ]
    },
    {
     "name": "stderr",
     "output_type": "stream",
     "text": [
      "TSV lines:  73%|██████████████████████████████████████████████████████████████████████████████████████████████████████▏                                      | 14543985/20058039 [04:43<06:08, 14945.19it/s]"
     ]
    },
    {
     "name": "stdout",
     "output_type": "stream",
     "text": [
      "andmebaasi salvestatud kollokatsioonid kollektsioonidest: 0 - 8700000\n"
     ]
    },
    {
     "name": "stderr",
     "output_type": "stream",
     "text": [
      "TSV lines:  81%|███████████████████████████████████████████████████████████████████████████████████████████████████████████████████▌                          | 16325285/20058039 [05:30<11:11, 5558.53it/s]"
     ]
    },
    {
     "name": "stdout",
     "output_type": "stream",
     "text": [
      "andmebaasi salvestatud kollokatsioonid kollektsioonidest: 0 - 9900000\n"
     ]
    },
    {
     "name": "stderr",
     "output_type": "stream",
     "text": [
      "TSV lines: 100%|█████████████████████████████████████████████████████████████████████████████████████████████████████████████████████████████████████████████| 20058039/20058039 [06:38<00:00, 50271.41it/s]\n"
     ]
    },
    {
     "name": "stdout",
     "output_type": "stream",
     "text": [
      "andmebaasi salvestatud kollokatsioonid kollektsioonidest: 0 - 18969731\n",
      "Verb stat saved to  tasak_verb_kids_20231018-091223.csv\n",
      "done.\n",
      "CPU times: user 6min 32s, sys: 18 s, total: 6min 50s\n",
      "Wall time: 7min 7s\n"
     ]
    }
   ],
   "source": [
    "%%time\n",
    "\n",
    "TYPE = 'obl_verb'\n",
    "TABLENAME = f'{TYPE}'\n",
    "BATCH_SIZE = 100000\n",
    "\n",
    "date_time = datetime.now().strftime(\"%Y%m%d-%H%M%S\")\n",
    "db_file_name = f\"tasak_{TYPE}_collocations_{date_time}.db\"\n",
    "\n",
    "my_sqlite_db = DbMethods(db_file_name=db_file_name, table1_name=TYPE, table2_name=TYPE+'_examples')\n",
    "my_sqlite_db.prep_coll_db()\n",
    "\n",
    "\n",
    "# hoitakse algusest lõpuni mälus\n",
    "verb_global_stat = {}\n",
    "\n",
    "# kollokatsioonid, tühjendatakse peale igat salvestamist\n",
    "collocations = {}\n",
    "count = 0\n",
    "for collection_id, graph in my_reader.get_sentences():\n",
    "    collection_id = int(collection_id)\n",
    "    count += 1\n",
    "    collocations, verb_global_stat, = extract_something(graph, collection_id, collocations, verb_global_stat )\n",
    "    if not collection_id == 0 and not collection_id % BATCH_SIZE:\n",
    "        my_sqlite_db.save_coll_to_db(collocations, collection_id)\n",
    "        collocations = {}\n",
    "    \n",
    "    \n",
    "# saving last batch\n",
    "my_sqlite_db.save_coll_to_db(collocations, collection_id)\n",
    "collocations = {}\n",
    "my_sqlite_db.index_fields()\n",
    "\n",
    "df = verb_stat_to_df(verb_global_stat, f'tasak_verb_kids_{date_time}.csv')\n",
    "df.to_sql(name='verbs_global_stat', con=my_sqlite_db._connection)\n",
    "\n",
    "print('done.')"
   ]
  },
  {
   "cell_type": "code",
   "execution_count": null,
   "id": "da33cd47-98cd-4169-b904-f261cb2b8963",
   "metadata": {},
   "outputs": [],
   "source": []
  }
 ],
 "metadata": {
  "kernelspec": {
   "display_name": "py38",
   "language": "python",
   "name": "py38"
  },
  "language_info": {
   "codemirror_mode": {
    "name": "ipython",
    "version": 3
   },
   "file_extension": ".py",
   "mimetype": "text/x-python",
   "name": "python",
   "nbconvert_exporter": "python",
   "pygments_lexer": "ipython3",
   "version": "3.8.16"
  }
 },
 "nbformat": 4,
 "nbformat_minor": 5
}
