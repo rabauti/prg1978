{
 "cells": [
  {
   "cell_type": "code",
   "execution_count": 1,
   "id": "43d66189-f326-4768-9854-005e2de3483c",
   "metadata": {},
   "outputs": [],
   "source": [
    "%load_ext autoreload\n",
    "%autoreload 2\n",
    "import pandas as pd\n",
    "import json\n",
    "from datetime import datetime\n",
    "\n",
    "from data_helpers.syntax_graph import SyntaxGraph\n",
    "from data_helpers.nc21_reader import Nc21Reader\n",
    "\n",
    "# functions for creating database and collecting collocations\n",
    "from collect_functions_1 import *\n"
   ]
  },
  {
   "cell_type": "markdown",
   "id": "bbf2887c-f27e-41c7-9434-9a347eb9495e",
   "metadata": {},
   "source": [
    "# Tabel 1 andmete kogumine"
   ]
  },
  {
   "cell_type": "code",
   "execution_count": 2,
   "id": "37feb3ac-ac39-422b-ad7f-380d9d17d302",
   "metadata": {},
   "outputs": [
    {
     "name": "stdout",
     "output_type": "stream",
     "text": [
      "CPU times: user 58 µs, sys: 1 µs, total: 59 µs\n",
      "Wall time: 63.2 µs\n"
     ]
    }
   ],
   "source": [
    "%%time\n",
    "# takes ca 2 mins\n",
    "# file_name = 'data/nc21_Fiction.vert_10'\n",
    "file_name = 'data/balanced_test.vert_10'\n",
    "\n",
    "my_nc21_reader = Nc21Reader(\n",
    "   file_name = file_name\n",
    ")"
   ]
  },
  {
   "cell_type": "code",
   "execution_count": null,
   "id": "066324cb-955d-4de9-a5e2-be716dccd2f7",
   "metadata": {},
   "outputs": [
    {
     "name": "stderr",
     "output_type": "stream",
     "text": [
      "TSV lines:   0%|          | 0/518 [00:00<?, ?it/s]"
     ]
    },
    {
     "name": "stdout",
     "output_type": "stream",
     "text": [
      "data/balanced_test.vert_10\n",
      "------------------------\n",
      "{'id': 1, 'lemma': 'Tallinn', 'pos': 'H', 'deprel': 'nmod', 'form': 'Tallinna', 'feats': {'prop': 'prop', 'sg': 'sg', 'gen': 'gen'}, 'verbform': None, 'head': 2}\n",
      "{'id': 2, 'lemma': 'sotsiaal', 'pos': 'S', 'deprel': 'nmod', 'form': 'sotsiaal-', 'feats': {'com': 'com', 'sg': 'sg', 'nom': 'nom'}, 'verbform': None, 'head': 5}\n",
      "{'id': 5, 'lemma': 'juhataja', 'pos': 'S', 'deprel': 'nsubj', 'form': 'juhataja', 'feats': {'com': 'com', 'sg': 'sg', 'nom': 'nom'}, 'verbform': None, 'head': 8}\n",
      "{'id': 3, 'lemma': 'ja', 'pos': 'J', 'deprel': 'cc', 'form': 'ja', 'feats': {'sub': 'sub', 'crd': 'crd'}, 'verbform': None, 'head': 4}\n",
      "{'id': 4, 'lemma': 'tervishoiuamet', 'pos': 'S', 'deprel': 'conj', 'form': 'tervishoiuameti', 'feats': {'com': 'com', 'sg': 'sg', 'gen': 'gen'}, 'verbform': None, 'head': 2}\n",
      "{'id': 8, 'lemma': 'kinnitama', 'pos': 'V', 'deprel': 'root', 'form': 'kinnitas', 'feats': {'mod': 'mod', 'indic': 'indic', 'impf': 'impf', 'ps3': 'ps3', 'sg': 'sg', 'ps': 'ps', 'af': 'af'}, 'verbform': 's', 'head': 0}\n",
      "{'id': 6, 'lemma': 'Vahur', 'pos': 'H', 'deprel': 'appos', 'form': 'Vahur', 'feats': {'prop': 'prop', 'sg': 'sg', 'nom': 'nom'}, 'verbform': None, 'head': 5}\n",
      "{'id': 7, 'lemma': 'Keldrima', 'pos': 'H', 'deprel': 'flat', 'form': 'Keldrima', 'feats': {'prop': 'prop', 'sg': 'sg', 'nom': 'nom'}, 'verbform': None, 'head': 6}\n",
      "{}\n",
      "{'id': 9, 'lemma': 'informatsioon', 'pos': 'S', 'deprel': 'obj', 'form': 'informatsiooni', 'feats': {'com': 'com', 'sg': 'sg', 'part': 'part'}, 'verbform': None, 'head': 8}\n",
      "{'id': 10, 'lemma': '.', 'pos': 'Z', 'deprel': 'punct', 'form': '.', 'feats': {'': ''}, 'verbform': None, 'head': 8}\n",
      "\n",
      "Tallinna sotsiaal- juhataja ja tervishoiuameti kinnitas Vahur Keldrima informatsiooni .\n"
     ]
    }
   ],
   "source": [
    "\"\"\"\n",
    "for sentence_id, text in my_nc21_reader.get_sentences():\n",
    "    print(sentence_id)\n",
    "    text.draw_graph()\n",
    "    break\n",
    "\"\"\"\n",
    "\n",
    "TYPE = 'obl_verb'\n",
    "TABLENAME = f'{TYPE}'\n",
    "BATCH_SIZE = 1\n",
    "\n",
    "date_time = datetime.now().strftime(\"%Y%m%d-%H%M%S\")\n",
    "db_file_name = f\"balanced_test_{TYPE}_collocations_{date_time}.db\"\n",
    "my_sqlite_db = DbMethods(db_file_name=db_file_name, table1_name=TYPE, table2_name=TYPE+'_examples')\n",
    "my_sqlite_db.prep_coll_db()\n",
    "\n",
    "\n",
    "collocations = {}\n",
    "count = 0\n",
    "for collection_id, graph in my_nc21_reader.get_sentences():\n",
    "    \n",
    "    count += 1\n",
    "    print('------------------------')\n",
    "    \n",
    "    # print(str(graph))\n",
    "    for n in graph.nodes: print(graph.nodes[n])\n",
    "    print('')\n",
    "    print(' '.join([graph.nodes[n]['form'] for n in graph.nodes if n]))\n",
    "    \n",
    "    graph.draw_graph()\n",
    "    \n",
    "    collocations, = extract_something(graph, collection_id, collocations )\n",
    "    \n",
    "    for c in collocations:\n",
    "        print(c, collocations[c])\n",
    "    #if count > 10:\n",
    "    #    break\n",
    "    \n",
    "    if not collection_id == 0 and not collection_id % BATCH_SIZE:\n",
    "        my_sqlite_db.save_coll_to_db(collocations, collection_id)\n",
    "        collocations = {}\n",
    "    \n",
    "    \n",
    "    print()\n",
    "    \n",
    "\n",
    "\n",
    "# saving last batch\n",
    "my_sqlite_db.save_coll_to_db(collocations, collection_id)\n",
    "collocations = {}\n",
    "my_sqlite_db.index_fields()\n"
   ]
  },
  {
   "cell_type": "code",
   "execution_count": null,
   "id": "7e2bad2d-fcbf-4eb2-b674-91468d9b3b28",
   "metadata": {},
   "outputs": [],
   "source": []
  },
  {
   "cell_type": "code",
   "execution_count": null,
   "id": "76ef8f98-2ceb-4d0a-9ea8-f18d027b7886",
   "metadata": {},
   "outputs": [],
   "source": []
  },
  {
   "cell_type": "code",
   "execution_count": null,
   "id": "1baed752-fc2f-4338-8d2e-0685eff50024",
   "metadata": {},
   "outputs": [],
   "source": [
    "collection_id"
   ]
  },
  {
   "cell_type": "code",
   "execution_count": null,
   "id": "85e15c0f-5a82-4e88-b64a-e6e5c09d74f2",
   "metadata": {},
   "outputs": [],
   "source": []
  }
 ],
 "metadata": {
  "kernelspec": {
   "display_name": "Python 3",
   "language": "python",
   "name": "python3"
  },
  "language_info": {
   "codemirror_mode": {
    "name": "ipython",
    "version": 3
   },
   "file_extension": ".py",
   "mimetype": "text/x-python",
   "name": "python",
   "nbconvert_exporter": "python",
   "pygments_lexer": "ipython3",
   "version": "3.7.7"
  }
 },
 "nbformat": 4,
 "nbformat_minor": 5
}
