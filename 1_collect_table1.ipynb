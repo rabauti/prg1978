{
 "cells": [
  {
   "cell_type": "code",
   "execution_count": 1,
   "id": "43d66189-f326-4768-9854-005e2de3483c",
   "metadata": {},
   "outputs": [],
   "source": [
    "%load_ext autoreload\n",
    "%autoreload 2"
   ]
  },
  {
   "cell_type": "code",
   "execution_count": 2,
   "id": "8a558d03-b645-433e-a4c7-99821999b082",
   "metadata": {},
   "outputs": [],
   "source": [
    "from datetime import datetime\n",
    "\n",
    "from data_helpers.syntax_graph import SyntaxGraph\n",
    "from data_helpers.nc21_reader import Nc21Reader\n",
    "\n",
    "# functions for creating database and collecting collocations\n",
    "from collect_functions_1 import *"
   ]
  },
  {
   "cell_type": "markdown",
   "id": "bbf2887c-f27e-41c7-9434-9a347eb9495e",
   "metadata": {},
   "source": [
    "# Tabel 1 andmete kogumine"
   ]
  },
  {
   "cell_type": "code",
   "execution_count": 3,
   "id": "37feb3ac-ac39-422b-ad7f-380d9d17d302",
   "metadata": {},
   "outputs": [
    {
     "name": "stdout",
     "output_type": "stream",
     "text": [
      "CPU times: user 50 µs, sys: 0 ns, total: 50 µs\n",
      "Wall time: 53.2 µs\n"
     ]
    }
   ],
   "source": [
    "%%time\n",
    "# takes ca 10 mins\n",
    "file_name = 'data/nc19_Balanced_Corpus.vert'\n",
    "\n",
    "my_nc21_reader = Nc21Reader(\n",
    "   file_name = file_name\n",
    ")"
   ]
  },
  {
   "cell_type": "code",
   "execution_count": 4,
   "id": "066324cb-955d-4de9-a5e2-be716dccd2f7",
   "metadata": {},
   "outputs": [
    {
     "name": "stdout",
     "output_type": "stream",
     "text": [
      "data/nc19_Balanced_Corpus.vert\n"
     ]
    },
    {
     "name": "stderr",
     "output_type": "stream",
     "text": [
      "TSV lines:  66%|██████▌   | 9853063/15006094 [03:14<15:10, 5656.95it/s] "
     ]
    },
    {
     "name": "stdout",
     "output_type": "stream",
     "text": [
      "andmebaasi salvestatud kollokatsioonid kollektsioonidest: 0 - 500000\n"
     ]
    },
    {
     "name": "stderr",
     "output_type": "stream",
     "text": [
      "TSV lines: 100%|██████████| 15006094/15006094 [04:45<00:00, 52549.70it/s]\n"
     ]
    },
    {
     "name": "stdout",
     "output_type": "stream",
     "text": [
      "andmebaasi salvestatud kollokatsioonid kollektsioonidest: 0 - 728148\n"
     ]
    },
    {
     "ename": "NameError",
     "evalue": "name 'verb_stat_to_csv' is not defined",
     "output_type": "error",
     "traceback": [
      "\u001b[0;31m---------------------------------------------------------------------------\u001b[0m",
      "\u001b[0;31mNameError\u001b[0m                                 Traceback (most recent call last)",
      "\u001b[0;32m<timed exec>\u001b[0m in \u001b[0;36m<module>\u001b[0;34m\u001b[0m\n",
      "\u001b[0;31mNameError\u001b[0m: name 'verb_stat_to_csv' is not defined"
     ]
    }
   ],
   "source": [
    "%%time\n",
    "\n",
    "TYPE = 'obl_verb'\n",
    "TABLENAME = f'{TYPE}'\n",
    "BATCH_SIZE = 500000\n",
    "\n",
    "date_time = datetime.now().strftime(\"%Y%m%d-%H%M%S\")\n",
    "db_file_name = f\"balanced_{TYPE}_collocations_{date_time}.db\"\n",
    "\n",
    "my_sqlite_db = DbMethods(db_file_name=db_file_name, table1_name=TYPE, table2_name=TYPE+'_examples')\n",
    "my_sqlite_db.prep_coll_db()\n",
    "\n",
    "\n",
    "# hoitakse algusest lõpuni mälus\n",
    "verb_global_stat = {}\n",
    "\n",
    "# kollokatsioonid, tühjendatakse peale igat salvestamist\n",
    "collocations = {}\n",
    "count = 0\n",
    "for collection_id, graph in my_nc21_reader.get_sentences():\n",
    "    \n",
    "    count += 1\n",
    "   \n",
    "    collocations, verb_global_stat, = extract_something(graph, collection_id, collocations, verb_global_stat )\n",
    "    \n",
    "    if not collection_id == 0 and not collection_id % BATCH_SIZE:\n",
    "        my_sqlite_db.save_coll_to_db(collocations, collection_id)\n",
    "        collocations = {}\n",
    "    \n",
    "    \n",
    "# saving last batch\n",
    "my_sqlite_db.save_coll_to_db(collocations, collection_id)\n",
    "collocations = {}\n",
    "my_sqlite_db.index_fields()\n",
    "\n",
    "\n",
    "df = verb_stat_to_df(verb_global_stat, f'balanced_verb_kids_{date_time}.csv')\n",
    "df.to_sql(name='verbs_global_stat', con=my_sqlite_db._connection)"
   ]
  },
  {
   "cell_type": "code",
   "execution_count": null,
   "id": "adf594a8-01e4-4640-9fe0-b1bf9673916d",
   "metadata": {},
   "outputs": [],
   "source": []
  }
 ],
 "metadata": {
  "kernelspec": {
   "display_name": "Python 3",
   "language": "python",
   "name": "python3"
  },
  "language_info": {
   "codemirror_mode": {
    "name": "ipython",
    "version": 3
   },
   "file_extension": ".py",
   "mimetype": "text/x-python",
   "name": "python",
   "nbconvert_exporter": "python",
   "pygments_lexer": "ipython3",
   "version": "3.7.7"
  }
 },
 "nbformat": 4,
 "nbformat_minor": 5
}
