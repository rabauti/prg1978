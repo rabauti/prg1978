{
 "cells": [
  {
   "cell_type": "code",
   "execution_count": 1,
   "metadata": {},
   "outputs": [],
   "source": [
    "%load_ext autoreload\n",
    "%autoreload 2"
   ]
  },
  {
   "cell_type": "code",
   "execution_count": 2,
   "metadata": {},
   "outputs": [],
   "source": [
    "from datetime import datetime\n",
    "\n",
    "from data_helpers.syntax_graph import SyntaxGraph\n",
    "from data_helpers.tasak_reader import TasakReader\n",
    "\n",
    "# functions for creating database and collecting collocations\n",
    "from collect_functions_2_ma import *"
   ]
  },
  {
   "cell_type": "markdown",
   "metadata": {},
   "source": [
    "# Tabel 2 andmete kogumine\n",
    "\n",
    "\n",
    "\n",
    "**Ülesande püstitus**\n",
    "\n",
    "Kõik laused, mis sisaldavad mõnda sama tabeli kolmandal lehel (MA) olevat lemmat, mille otseste alluvate hulgas on ma-infinitiiv (ainult ma-vorm, mitte mas, mast, mata, maks). Samamoodi esimeses veerus lause, teises veerus otsitava verbi lemma ja kolmandas veerus ma-infinitiivis verbi lemma.\n",
    "\n",
    "\n",
    "\n",
    "**Kirjeldus**\n",
    "\n",
    "Tasakaalus korpusest kogutakse kokku järgmisele mallile vastavad esinemised:\n",
    "\n",
    "* peaverbi alluvate seas ma-infinitiiv: alluv on verb ja morf kategooriate seal on <code>sup</code>;\n",
    "  \n",
    "\n",
    "\n",
    "**Tulemus**\n",
    "\n",
    "Tulmuseks on tabel sqlite formaadis.\n",
    "\n",
    "Tabeli veerud\n",
    "||||\n",
    "|---|---|---|\n",
    "|**verb**| verbi lemma |---|\n",
    "|**verb_compound**| afiksaaladverbid |---|\n",
    "|**verb_is_aux**| verbil või mõnel verbi alluval on deprel == 'aux'|---|\n",
    "|**verb_feats**| verbi morf kategooriad |---|\n",
    "|**verb_deprel**| verbi deprel |---|\n",
    "|**sup_verb**| verbile alluva ma-infinitiivis verbi lemma |---|\n",
    "|**sup_verb_feats**| morf kategooriad|---|\n",
    "|**sup_verb_deprel**| morf kategooriad|---|\n",
    "|**sentence**| lause tekst |---|\n",
    "|**sentence_id**| lause id andmebaasis|---|\n",
    "\n",
    "\n",
    "Lisaks kogutakse ka verbide statistika.\n",
    "\n",
    "Kogutakse eraldi verbi esinemissagedust ja \"sobiva\" verbi sagedust.\n",
    "\n",
    "**Filtreeritud verbidega tabel**\n",
    "\n",
    "Filtreeritud verbidega tabel savelstatakse tsv-formaadis.\n",
    "Tabelisse salvestatakse [verbs_2_ma.tsv](verbs_2_ma.tsv) nimekirja alusel.\n",
    "\n",
    "\n"
   ]
  },
  {
   "cell_type": "code",
   "execution_count": 3,
   "metadata": {},
   "outputs": [
    {
     "name": "stdout",
     "output_type": "stream",
     "text": [
      "mkdir: img_ma/: File exists\n",
      "CPU times: user 2.69 ms, sys: 6.4 ms, total: 9.1 ms\n",
      "Wall time: 488 ms\n"
     ]
    }
   ],
   "source": [
    "%%time\n",
    "\n",
    "file_name = 'data/tasak.vert'\n",
    "\n",
    "my_reader = TasakReader(\n",
    "   file_name = file_name\n",
    ")\n",
    "\n",
    "\n",
    "!mkdir img_ma/\n",
    "!rm img_ma/*\n"
   ]
  },
  {
   "cell_type": "code",
   "execution_count": 4,
   "metadata": {},
   "outputs": [
    {
     "name": "stdout",
     "output_type": "stream",
     "text": [
      "data/tasak.vert\n"
     ]
    },
    {
     "name": "stderr",
     "output_type": "stream",
     "text": [
      "TSV lines:   9%|▊         | 1727405/20058039 [00:06<01:12, 251478.85it/s]/Users/rabauti/repos/eki/prg1978_heete_loendid/venv/lib/python3.12/site-packages/pygraphviz/agraph.py:1407: RuntimeWarning: Warning: gvrender_set_style: unsupported style none - ignoring\n",
      "\n",
      "  warnings.warn(b\"\".join(errors).decode(self.encoding), RuntimeWarning)\n"
     ]
    },
    {
     "name": "stdout",
     "output_type": "stream",
     "text": [
      "Graph image 'img_ma/345155_spetsialiseeruma__juhtuma.png' has been generated.\n"
     ]
    },
    {
     "name": "stderr",
     "output_type": "stream",
     "text": [
      "TSV lines:   9%|▉         | 1798398/20058039 [00:07<02:46, 109467.50it/s]"
     ]
    },
    {
     "name": "stdout",
     "output_type": "stream",
     "text": [
      "Graph image 'img_ma/345155_spetsialiseeruma__toetama.png' has been generated.\n",
      "andmebaasi salvestatud kollokatsioonid kollektsioonidest: 0 - 346546\n"
     ]
    },
    {
     "name": "stderr",
     "output_type": "stream",
     "text": [
      "TSV lines:  18%|█▊        | 3560717/20058039 [00:15<01:09, 236252.05it/s]"
     ]
    },
    {
     "name": "stdout",
     "output_type": "stream",
     "text": [
      "andmebaasi salvestatud kollokatsioonid kollektsioonidest: 0 - 4759049\n"
     ]
    },
    {
     "name": "stderr",
     "output_type": "stream",
     "text": [
      "TSV lines:  26%|██▌       | 5199087/20058039 [00:21<01:06, 223405.75it/s]"
     ]
    },
    {
     "name": "stdout",
     "output_type": "stream",
     "text": [
      "andmebaasi salvestatud kollokatsioonid kollektsioonidest: 0 - 7050913\n"
     ]
    },
    {
     "name": "stderr",
     "output_type": "stream",
     "text": [
      "TSV lines:  34%|███▎      | 6754345/20058039 [00:27<00:53, 249970.64it/s]"
     ]
    },
    {
     "name": "stdout",
     "output_type": "stream",
     "text": [
      "andmebaasi salvestatud kollokatsioonid kollektsioonidest: 0 - 7276941\n"
     ]
    },
    {
     "name": "stderr",
     "output_type": "stream",
     "text": [
      "TSV lines:  42%|████▏     | 8352930/20058039 [00:33<00:47, 247789.47it/s]"
     ]
    },
    {
     "name": "stdout",
     "output_type": "stream",
     "text": [
      "andmebaasi salvestatud kollokatsioonid kollektsioonidest: 0 - 7411429\n"
     ]
    },
    {
     "name": "stderr",
     "output_type": "stream",
     "text": [
      "TSV lines:  50%|████▉     | 9982248/20058039 [00:40<00:45, 221725.98it/s]"
     ]
    },
    {
     "name": "stdout",
     "output_type": "stream",
     "text": [
      "andmebaasi salvestatud kollokatsioonid kollektsioonidest: 0 - 7714558\n"
     ]
    },
    {
     "name": "stderr",
     "output_type": "stream",
     "text": [
      "TSV lines:  58%|█████▊    | 11549151/20058039 [00:46<00:40, 209545.00it/s]"
     ]
    },
    {
     "name": "stdout",
     "output_type": "stream",
     "text": [
      "andmebaasi salvestatud kollokatsioonid kollektsioonidest: 0 - 7986984\n"
     ]
    },
    {
     "name": "stderr",
     "output_type": "stream",
     "text": [
      "TSV lines:  66%|██████▋   | 13316299/20058039 [00:54<00:38, 174904.89it/s]"
     ]
    },
    {
     "name": "stdout",
     "output_type": "stream",
     "text": [
      "andmebaasi salvestatud kollokatsioonid kollektsioonidest: 0 - 8489464\n"
     ]
    },
    {
     "name": "stderr",
     "output_type": "stream",
     "text": [
      "TSV lines:  74%|███████▍  | 14918549/20058039 [01:00<00:25, 198624.30it/s]"
     ]
    },
    {
     "name": "stdout",
     "output_type": "stream",
     "text": [
      "andmebaasi salvestatud kollokatsioonid kollektsioonidest: 0 - 8807195\n"
     ]
    },
    {
     "name": "stderr",
     "output_type": "stream",
     "text": [
      "TSV lines:  83%|████████▎ | 16567622/20058039 [01:07<00:19, 180339.09it/s]"
     ]
    },
    {
     "name": "stdout",
     "output_type": "stream",
     "text": [
      "andmebaasi salvestatud kollokatsioonid kollektsioonidest: 0 - 10136385\n"
     ]
    },
    {
     "name": "stderr",
     "output_type": "stream",
     "text": [
      "TSV lines:  89%|████████▉ | 17866003/20058039 [01:13<00:15, 141887.52it/s]"
     ]
    },
    {
     "name": "stdout",
     "output_type": "stream",
     "text": [
      "Graph image 'img_ma/13323093_häälestuma__kannatama.png' has been generated.\n"
     ]
    },
    {
     "name": "stderr",
     "output_type": "stream",
     "text": [
      "TSV lines:  91%|█████████ | 18184247/20058039 [01:15<00:11, 157829.35it/s]"
     ]
    },
    {
     "name": "stdout",
     "output_type": "stream",
     "text": [
      "andmebaasi salvestatud kollokatsioonid kollektsioonidest: 0 - 14295795\n"
     ]
    },
    {
     "name": "stderr",
     "output_type": "stream",
     "text": [
      "TSV lines:  94%|█████████▍| 18922021/20058039 [01:18<00:07, 158792.31it/s]"
     ]
    },
    {
     "name": "stdout",
     "output_type": "stream",
     "text": [
      "Graph image 'img_ma/16939859_spetsialiseeruma__külastama.png' has been generated.\n"
     ]
    },
    {
     "name": "stderr",
     "output_type": "stream",
     "text": [
      "TSV lines:  99%|█████████▉| 19885906/20058039 [01:22<00:00, 209000.83it/s]"
     ]
    },
    {
     "name": "stdout",
     "output_type": "stream",
     "text": [
      "andmebaasi salvestatud kollokatsioonid kollektsioonidest: 0 - 18956465\n"
     ]
    },
    {
     "name": "stderr",
     "output_type": "stream",
     "text": [
      "TSV lines: 100%|██████████| 20058039/20058039 [01:23<00:00, 241409.18it/s]"
     ]
    },
    {
     "name": "stdout",
     "output_type": "stream",
     "text": [
      "andmebaasi salvestatud kollokatsioonid kollektsioonidest: 0 - 18969731\n",
      "CPU times: user 1min 19s, sys: 1.34 s, total: 1min 21s\n",
      "Wall time: 1min 23s\n"
     ]
    },
    {
     "name": "stderr",
     "output_type": "stream",
     "text": [
      "\n"
     ]
    }
   ],
   "source": [
    "%%time\n",
    "\n",
    "TYPE = 'ma_laused'\n",
    "TABLENAME = f'{TYPE}'\n",
    "BATCH_SIZE = 100000\n",
    "\n",
    "date_time = datetime.now().strftime(\"%Y%m%d-%H%M%S\")\n",
    "db_file_name = f\"tasak_{TYPE}_{date_time}.sqlite\"\n",
    "\n",
    "my_sqlite_db = DbMethods(db_file_name=db_file_name, table1_name=TYPE, table2_name=TYPE+'_examples')\n",
    "my_sqlite_db.prep_coll_db()\n",
    "\n",
    "\n",
    "# hoitakse algusest lõpuni mälus\n",
    "verb_global_stat = {}\n",
    "\n",
    "# kollokatsioonid, tühjendatakse peale igat salvestamist\n",
    "collocations = []\n",
    "count = 0\n",
    "for collection_id, graph in my_reader.get_sentences():\n",
    "    \n",
    "    count += 1\n",
    "    if not collection_id:\n",
    "        collection_id = count\n",
    "\n",
    "    #print(f'-------------{collection_id}-----------')\n",
    "    #print(str(graph))\n",
    "\n",
    "    \n",
    "    collocations, verb_global_stat, = extract_something(graph, collection_id, collocations, verb_global_stat )\n",
    "    \n",
    "\n",
    "\n",
    "\n",
    "    if not collection_id == 0 and not count % BATCH_SIZE:\n",
    "        my_sqlite_db.save_coll_to_db(collocations, collection_id)\n",
    "        collocations = []\n",
    "        \n",
    "   \n",
    "    \n",
    "    \n",
    "# saving last batch\n",
    "my_sqlite_db.save_coll_to_db(collocations, collection_id)"
   ]
  },
  {
   "cell_type": "code",
   "execution_count": 5,
   "metadata": {},
   "outputs": [
    {
     "data": {
      "text/html": [
       "<div>\n",
       "<style scoped>\n",
       "    .dataframe tbody tr th:only-of-type {\n",
       "        vertical-align: middle;\n",
       "    }\n",
       "\n",
       "    .dataframe tbody tr th {\n",
       "        vertical-align: top;\n",
       "    }\n",
       "\n",
       "    .dataframe thead th {\n",
       "        text-align: right;\n",
       "    }\n",
       "</style>\n",
       "<table border=\"1\" class=\"dataframe\">\n",
       "  <thead>\n",
       "    <tr style=\"text-align: right;\">\n",
       "      <th></th>\n",
       "      <th>verb</th>\n",
       "    </tr>\n",
       "  </thead>\n",
       "  <tbody>\n",
       "    <tr>\n",
       "      <th>0</th>\n",
       "      <td>kippuma</td>\n",
       "    </tr>\n",
       "    <tr>\n",
       "      <th>1</th>\n",
       "      <td>tikkuma</td>\n",
       "    </tr>\n",
       "    <tr>\n",
       "      <th>2</th>\n",
       "      <td>tükkima</td>\n",
       "    </tr>\n",
       "    <tr>\n",
       "      <th>3</th>\n",
       "      <td>kibelema</td>\n",
       "    </tr>\n",
       "    <tr>\n",
       "      <th>4</th>\n",
       "      <td>sügelema</td>\n",
       "    </tr>\n",
       "  </tbody>\n",
       "</table>\n",
       "</div>"
      ],
      "text/plain": [
       "       verb\n",
       "0   kippuma\n",
       "1   tikkuma\n",
       "2   tükkima\n",
       "3  kibelema\n",
       "4  sügelema"
      ]
     },
     "metadata": {},
     "output_type": "display_data"
    },
    {
     "data": {
      "text/html": [
       "<div>\n",
       "<style scoped>\n",
       "    .dataframe tbody tr th:only-of-type {\n",
       "        vertical-align: middle;\n",
       "    }\n",
       "\n",
       "    .dataframe tbody tr th {\n",
       "        vertical-align: top;\n",
       "    }\n",
       "\n",
       "    .dataframe thead th {\n",
       "        text-align: right;\n",
       "    }\n",
       "</style>\n",
       "<table border=\"1\" class=\"dataframe\">\n",
       "  <thead>\n",
       "    <tr style=\"text-align: right;\">\n",
       "      <th></th>\n",
       "      <th>id</th>\n",
       "      <th>verb</th>\n",
       "      <th>verb_compound</th>\n",
       "      <th>verb_feats</th>\n",
       "      <th>verb_is_aux</th>\n",
       "      <th>verb_deprel</th>\n",
       "      <th>sup_verb</th>\n",
       "      <th>sup_verb_feats</th>\n",
       "      <th>sup_verb_deprel</th>\n",
       "      <th>sentence</th>\n",
       "      <th>sentence_id</th>\n",
       "      <th>verb_compound_list</th>\n",
       "    </tr>\n",
       "  </thead>\n",
       "  <tbody>\n",
       "    <tr>\n",
       "      <th>0</th>\n",
       "      <td>1</td>\n",
       "      <td>identifitseerima</td>\n",
       "      <td></td>\n",
       "      <td>ps,ill,sup,main</td>\n",
       "      <td>0</td>\n",
       "      <td>xcomp</td>\n",
       "      <td>integreerima</td>\n",
       "      <td>ps,ill,sup,main</td>\n",
       "      <td>conj</td>\n",
       "      <td>Vähe sellest , õppejõud peab olema piisavalt i...</td>\n",
       "      <td>189909</td>\n",
       "      <td>[]</td>\n",
       "    </tr>\n",
       "    <tr>\n",
       "      <th>1</th>\n",
       "      <td>2</td>\n",
       "      <td>innustama</td>\n",
       "      <td></td>\n",
       "      <td>af,ps,sg,mod,ps3,pres,indic</td>\n",
       "      <td>0</td>\n",
       "      <td>conj</td>\n",
       "      <td>töötama</td>\n",
       "      <td>ps,ill,mod,sup</td>\n",
       "      <td>xcomp</td>\n",
       "      <td>kas rakendatav töötasusüsteem on adekvaatne ( ...</td>\n",
       "      <td>189924</td>\n",
       "      <td>[]</td>\n",
       "    </tr>\n",
       "    <tr>\n",
       "      <th>2</th>\n",
       "      <td>3</td>\n",
       "      <td>hakkama</td>\n",
       "      <td></td>\n",
       "      <td>af,pl,ps,mod,ps3,pres,indic</td>\n",
       "      <td>0</td>\n",
       "      <td>root</td>\n",
       "      <td>domineerima</td>\n",
       "      <td>ps,aux,ill,sup</td>\n",
       "      <td>xcomp</td>\n",
       "      <td>kui objektiivsel analüüsil põhinevate otsustus...</td>\n",
       "      <td>189937</td>\n",
       "      <td>[]</td>\n",
       "    </tr>\n",
       "    <tr>\n",
       "      <th>3</th>\n",
       "      <td>4</td>\n",
       "      <td>sokutama</td>\n",
       "      <td></td>\n",
       "      <td>af,aux,imps,pres,indic</td>\n",
       "      <td>0</td>\n",
       "      <td>acl:relcl</td>\n",
       "      <td>elustuma</td>\n",
       "      <td>ps,ill,sup,main</td>\n",
       "      <td>advcl</td>\n",
       "      <td>Eriti suuri lootusi pannakse nn loogikapommide...</td>\n",
       "      <td>189990</td>\n",
       "      <td>[]</td>\n",
       "    </tr>\n",
       "    <tr>\n",
       "      <th>4</th>\n",
       "      <td>5</td>\n",
       "      <td>teatama</td>\n",
       "      <td></td>\n",
       "      <td>af,ps,sg,aux,ps3,pres,indic</td>\n",
       "      <td>0</td>\n",
       "      <td>root</td>\n",
       "      <td>tekkima</td>\n",
       "      <td>ps,ill,mod,sup</td>\n",
       "      <td>advcl</td>\n",
       "      <td>Kui aga peaks ___tekkima___ ohtlik olukord , _...</td>\n",
       "      <td>190079</td>\n",
       "      <td>[]</td>\n",
       "    </tr>\n",
       "  </tbody>\n",
       "</table>\n",
       "</div>"
      ],
      "text/plain": [
       "   id              verb verb_compound                   verb_feats  \\\n",
       "0   1  identifitseerima                            ps,ill,sup,main   \n",
       "1   2         innustama                af,ps,sg,mod,ps3,pres,indic   \n",
       "2   3           hakkama                af,pl,ps,mod,ps3,pres,indic   \n",
       "3   4          sokutama                     af,aux,imps,pres,indic   \n",
       "4   5           teatama                af,ps,sg,aux,ps3,pres,indic   \n",
       "\n",
       "   verb_is_aux verb_deprel      sup_verb   sup_verb_feats sup_verb_deprel  \\\n",
       "0            0       xcomp  integreerima  ps,ill,sup,main            conj   \n",
       "1            0        conj       töötama   ps,ill,mod,sup           xcomp   \n",
       "2            0        root   domineerima   ps,aux,ill,sup           xcomp   \n",
       "3            0   acl:relcl      elustuma  ps,ill,sup,main           advcl   \n",
       "4            0        root       tekkima   ps,ill,mod,sup           advcl   \n",
       "\n",
       "                                            sentence sentence_id  \\\n",
       "0  Vähe sellest , õppejõud peab olema piisavalt i...      189909   \n",
       "1  kas rakendatav töötasusüsteem on adekvaatne ( ...      189924   \n",
       "2  kui objektiivsel analüüsil põhinevate otsustus...      189937   \n",
       "3  Eriti suuri lootusi pannakse nn loogikapommide...      189990   \n",
       "4  Kui aga peaks ___tekkima___ ohtlik olukord , _...      190079   \n",
       "\n",
       "  verb_compound_list  \n",
       "0                 []  \n",
       "1                 []  \n",
       "2                 []  \n",
       "3                 []  \n",
       "4                 []  "
      ]
     },
     "metadata": {},
     "output_type": "display_data"
    },
    {
     "data": {
      "text/plain": [
       "(63848, 12)"
      ]
     },
     "metadata": {},
     "output_type": "display_data"
    },
    {
     "data": {
      "text/plain": [
       "(7148, 11)"
      ]
     },
     "metadata": {},
     "output_type": "display_data"
    }
   ],
   "source": [
    "\n",
    "# Salvestatud andmete filtreerimine ja tsv faili salvestamine\n",
    "import pandas as pd\n",
    "import sqlite3 as sqlite\n",
    "df_verbs = pd.read_csv(\"verbs_2_ma.tsv\", sep=\"\\t\")\n",
    "df_verbs.fillna('', inplace=True)\n",
    "display(df_verbs.head())\n",
    "verbs = df_verbs['verb'].to_list()\n",
    "\n",
    "\n",
    "db_conn = sqlite.connect(db_file_name)\n",
    "\n",
    "df = pd.read_sql('SELECT * FROM ma_laused', db_conn)\n",
    "df['verb_compound_list'] = df.verb_compound.apply(lambda x: x.split(','))\n",
    "\n",
    "display(df.head())\n",
    "display(df.shape)\n",
    "\n",
    "def do_delete(row):\n",
    "    global verbs\n",
    "    for cmp in row['verb_compound_list']:\n",
    "        key = (cmp + ' ' +  row['verb']).strip()\n",
    "        #if row['verb'] == 'leppima':\n",
    "        #    print(key)\n",
    "        if key in verbs:\n",
    "            #print(key)\n",
    "            return False\n",
    "    return True\n",
    "\n",
    "df['delete'] = df.apply(do_delete, axis=1)\n",
    "\n",
    "df = df[df['delete'] == False]\n",
    "del df['verb_compound_list']\n",
    "del df['delete']\n",
    "display(df.shape)\n",
    "df.to_csv(db_file_name+'_final.tsv', index=None) "
   ]
  },
  {
   "cell_type": "code",
   "execution_count": 6,
   "metadata": {},
   "outputs": [
    {
     "data": {
      "text/plain": [
       "['kippuma',\n",
       " 'tikkuma',\n",
       " 'tükkima',\n",
       " 'kibelema',\n",
       " 'sügelema',\n",
       " 'kihelema',\n",
       " 'pürgima',\n",
       " 'püüdlema',\n",
       " 'pretendeerima',\n",
       " 'kalduma',\n",
       " 'tahtma',\n",
       " 'valmistuma',\n",
       " 'ehtima',\n",
       " 'valmistama',\n",
       " 'sättima',\n",
       " 'asutama',\n",
       " 'kohmitsema',\n",
       " 'õppima',\n",
       " 'harjutama',\n",
       " 'häälestuma',\n",
       " 'spetsialiseeruma',\n",
       " 'arenema',\n",
       " 'divergeeruma',\n",
       " 'harjuma',\n",
       " 'sobima',\n",
       " 'kõlbama',\n",
       " 'kvalifitseeruma',\n",
       " 'saama',\n",
       " 'pääsema',\n",
       " 'vabanema',\n",
       " 'jõudma',\n",
       " 'mahtuma',\n",
       " 'ulatuma',\n",
       " 'ulatama',\n",
       " 'küündima',\n",
       " 'nõustuma',\n",
       " 'soostuma',\n",
       " 'kohustuma',\n",
       " 'vaevuma',\n",
       " 'painduma',\n",
       " 'alanduma',\n",
       " 'tegema',\n",
       " 'pidama',\n",
       " 'juhtuma',\n",
       " 'sattuma',\n",
       " 'trehvama',\n",
       " 'sündima',\n",
       " 'registreeruma',\n",
       " 'innustuma',\n",
       " 'keskenduma',\n",
       " 'arvama',\n",
       " 'tajuma',\n",
       " 'riskima',\n",
       " 'tõotama',\n",
       " 'üritama',\n",
       " 'piirduma']"
      ]
     },
     "execution_count": 6,
     "metadata": {},
     "output_type": "execute_result"
    }
   ],
   "source": [
    "verbs"
   ]
  }
 ],
 "metadata": {
  "kernelspec": {
   "display_name": "venv",
   "language": "python",
   "name": "python3"
  },
  "language_info": {
   "codemirror_mode": {
    "name": "ipython",
    "version": 3
   },
   "file_extension": ".py",
   "mimetype": "text/x-python",
   "name": "python",
   "nbconvert_exporter": "python",
   "pygments_lexer": "ipython3",
   "version": "3.12.3"
  }
 },
 "nbformat": 4,
 "nbformat_minor": 2
}
