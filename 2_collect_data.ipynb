{
 "cells": [
  {
   "cell_type": "code",
   "execution_count": 6,
   "id": "c690caa9-e526-47db-addc-436809fdc379",
   "metadata": {},
   "outputs": [
    {
     "name": "stdout",
     "output_type": "stream",
     "text": [
      "The autoreload extension is already loaded. To reload it, use:\n",
      "  %reload_ext autoreload\n"
     ]
    }
   ],
   "source": [
    "%load_ext autoreload\n",
    "%autoreload 2"
   ]
  },
  {
   "cell_type": "code",
   "execution_count": 7,
   "id": "43d66189-f326-4768-9854-005e2de3483c",
   "metadata": {},
   "outputs": [],
   "source": [
    "from datetime import datetime\n",
    "\n",
    "from data_helpers.syntax_graph import SyntaxGraph\n",
    "from data_helpers.tasak_reader import TasakReader\n",
    "\n",
    "# functions for creating database and collecting collocations\n",
    "from collect_functions_1 import *\n"
   ]
  },
  {
   "cell_type": "markdown",
   "id": "bbf2887c-f27e-41c7-9434-9a347eb9495e",
   "metadata": {},
   "source": [
    "# Tabel 2 andmete kogumine\n",
    "\n",
    "Erinevus võrreldes tabeliga 1: tegemisel ei arvestata objektil ja subjektil käänet. Et nt obj nom, gen ja par eri sageduste asemel on ainult üks suur * sagedus? "
   ]
  },
  {
   "cell_type": "code",
   "execution_count": 8,
   "id": "37feb3ac-ac39-422b-ad7f-380d9d17d302",
   "metadata": {},
   "outputs": [
    {
     "name": "stdout",
     "output_type": "stream",
     "text": [
      "CPU times: user 15 µs, sys: 28 µs, total: 43 µs\n",
      "Wall time: 45.1 µs\n"
     ]
    }
   ],
   "source": [
    "%%time\n",
    "\n",
    "file_name = 'data/tasak.vert'\n",
    "\n",
    "my_reader = TasakReader(\n",
    "   file_name = file_name\n",
    ")"
   ]
  },
  {
   "cell_type": "code",
   "execution_count": 9,
   "id": "066324cb-955d-4de9-a5e2-be716dccd2f7",
   "metadata": {
    "tags": []
   },
   "outputs": [
    {
     "name": "stdout",
     "output_type": "stream",
     "text": [
      "data/tasak.vert\n"
     ]
    },
    {
     "name": "stderr",
     "output_type": "stream",
     "text": [
      "TSV lines:   1%|          | 193734/20058039 [00:00<01:30, 220034.41it/s]"
     ]
    },
    {
     "name": "stdout",
     "output_type": "stream",
     "text": [
      "andmebaasi salvestatud kollokatsioonid kollektsioonidest: 0 - 200000\n"
     ]
    },
    {
     "name": "stderr",
     "output_type": "stream",
     "text": [
      "TSV lines:   6%|▋         | 1290630/20058039 [00:05<01:49, 171282.45it/s]"
     ]
    },
    {
     "name": "stdout",
     "output_type": "stream",
     "text": [
      "andmebaasi salvestatud kollokatsioonid kollektsioonidest: 0 - 300000\n"
     ]
    },
    {
     "name": "stderr",
     "output_type": "stream",
     "text": [
      "TSV lines:  24%|██▍       | 4766616/20058039 [00:21<02:13, 114610.31it/s]"
     ]
    },
    {
     "name": "stdout",
     "output_type": "stream",
     "text": [
      "andmebaasi salvestatud kollokatsioonid kollektsioonidest: 0 - 6900000\n"
     ]
    },
    {
     "name": "stderr",
     "output_type": "stream",
     "text": [
      "TSV lines:  29%|██▉       | 5836588/20058039 [00:27<01:51, 127666.06it/s]"
     ]
    },
    {
     "name": "stdout",
     "output_type": "stream",
     "text": [
      "andmebaasi salvestatud kollokatsioonid kollektsioonidest: 0 - 7100000\n"
     ]
    },
    {
     "name": "stderr",
     "output_type": "stream",
     "text": [
      "TSV lines:  41%|████      | 8206812/20058039 [00:38<02:24, 82074.83it/s] "
     ]
    },
    {
     "name": "stdout",
     "output_type": "stream",
     "text": [
      "andmebaasi salvestatud kollokatsioonid kollektsioonidest: 0 - 7400000\n"
     ]
    },
    {
     "name": "stderr",
     "output_type": "stream",
     "text": [
      "TSV lines:  44%|████▎     | 8731959/20058039 [00:41<01:17, 146371.95it/s]"
     ]
    },
    {
     "name": "stdout",
     "output_type": "stream",
     "text": [
      "andmebaasi salvestatud kollokatsioonid kollektsioonidest: 0 - 7500000\n"
     ]
    },
    {
     "name": "stderr",
     "output_type": "stream",
     "text": [
      "TSV lines:  52%|█████▏    | 10488120/20058039 [00:49<01:41, 94220.61it/s] "
     ]
    },
    {
     "name": "stdout",
     "output_type": "stream",
     "text": [
      "andmebaasi salvestatud kollokatsioonid kollektsioonidest: 0 - 7900000\n"
     ]
    },
    {
     "name": "stderr",
     "output_type": "stream",
     "text": [
      "TSV lines:  58%|█████▊    | 11691670/20058039 [00:55<01:32, 90711.50it/s] "
     ]
    },
    {
     "name": "stdout",
     "output_type": "stream",
     "text": [
      "andmebaasi salvestatud kollokatsioonid kollektsioonidest: 0 - 8000000\n"
     ]
    },
    {
     "name": "stderr",
     "output_type": "stream",
     "text": [
      "TSV lines:  64%|██████▍   | 12806647/20058039 [01:01<01:00, 119772.95it/s]"
     ]
    },
    {
     "name": "stdout",
     "output_type": "stream",
     "text": [
      "andmebaasi salvestatud kollokatsioonid kollektsioonidest: 0 - 8400000\n"
     ]
    },
    {
     "name": "stderr",
     "output_type": "stream",
     "text": [
      "TSV lines:  68%|██████▊   | 13540120/20058039 [01:05<00:40, 160802.13it/s]"
     ]
    },
    {
     "name": "stdout",
     "output_type": "stream",
     "text": [
      "andmebaasi salvestatud kollokatsioonid kollektsioonidest: 0 - 8500000\n"
     ]
    },
    {
     "name": "stderr",
     "output_type": "stream",
     "text": [
      "TSV lines:  70%|███████   | 14098670/20058039 [01:08<00:47, 124649.84it/s]"
     ]
    },
    {
     "name": "stdout",
     "output_type": "stream",
     "text": [
      "andmebaasi salvestatud kollokatsioonid kollektsioonidest: 0 - 8600000\n"
     ]
    },
    {
     "name": "stderr",
     "output_type": "stream",
     "text": [
      "TSV lines:  73%|███████▎  | 14556611/20058039 [01:10<00:46, 117173.32it/s]"
     ]
    },
    {
     "name": "stdout",
     "output_type": "stream",
     "text": [
      "andmebaasi salvestatud kollokatsioonid kollektsioonidest: 0 - 8700000\n"
     ]
    },
    {
     "name": "stderr",
     "output_type": "stream",
     "text": [
      "TSV lines:  81%|████████▏ | 16343790/20058039 [01:19<00:49, 75285.11it/s] "
     ]
    },
    {
     "name": "stdout",
     "output_type": "stream",
     "text": [
      "andmebaasi salvestatud kollokatsioonid kollektsioonidest: 0 - 9900000\n"
     ]
    },
    {
     "name": "stderr",
     "output_type": "stream",
     "text": [
      "TSV lines: 100%|██████████| 20058039/20058039 [01:36<00:00, 208098.36it/s]\n"
     ]
    },
    {
     "name": "stdout",
     "output_type": "stream",
     "text": [
      "andmebaasi salvestatud kollokatsioonid kollektsioonidest: 0 - 18969731\n",
      "Verb stat saved to  tasak_verb_kids_20240324-181131.csv\n",
      "done.\n",
      "CPU times: user 1min 37s, sys: 4.06 s, total: 1min 41s\n",
      "Wall time: 1min 42s\n"
     ]
    }
   ],
   "source": [
    "%%time\n",
    "\n",
    "TYPE = 'obl_verb_subj_obj_nocase'\n",
    "TABLENAME = f'{TYPE}'\n",
    "BATCH_SIZE = 100000\n",
    "\n",
    "date_time = datetime.now().strftime(\"%Y%m%d-%H%M%S\")\n",
    "db_file_name = f\"tasak_{TYPE}_collocations_{date_time}.db\"\n",
    "\n",
    "my_sqlite_db = DbMethods(db_file_name=db_file_name, table1_name=TYPE, table2_name=TYPE+'_examples')\n",
    "my_sqlite_db.prep_coll_db()\n",
    "\n",
    "no_subj_obj_case = True\n",
    "\n",
    "# hoitakse algusest lõpuni mälus\n",
    "verb_global_stat = {}\n",
    "\n",
    "# kollokatsioonid, tühjendatakse peale igat salvestamist\n",
    "collocations = {}\n",
    "count = 0\n",
    "for collection_id, graph in my_reader.get_sentences():\n",
    "    collection_id = int(collection_id)\n",
    "    count += 1\n",
    "    collocations, verb_global_stat, = extract_something(graph, collection_id, collocations, verb_global_stat, no_subj_obj_case )\n",
    "    if not collection_id == 0 and not collection_id % BATCH_SIZE:\n",
    "        my_sqlite_db.save_coll_to_db(collocations, collection_id)\n",
    "        collocations = {}\n",
    "    \n",
    "    \n",
    "# saving last batch\n",
    "my_sqlite_db.save_coll_to_db(collocations, collection_id)\n",
    "collocations = {}\n",
    "my_sqlite_db.index_fields()\n",
    "\n",
    "df = verb_stat_to_df(verb_global_stat, f'tasak_verbs_global_stat_subj_obj_nocase_{date_time}.csv')\n",
    "df.to_sql(name='verbs_global_stat', con=my_sqlite_db._connection)\n",
    "\n",
    "print('done.')"
   ]
  },
  {
   "cell_type": "code",
   "execution_count": null,
   "id": "da33cd47-98cd-4169-b904-f261cb2b8963",
   "metadata": {},
   "outputs": [],
   "source": []
  }
 ],
 "metadata": {
  "kernelspec": {
   "display_name": "venv",
   "language": "python",
   "name": "python3"
  },
  "language_info": {
   "codemirror_mode": {
    "name": "ipython",
    "version": 3
   },
   "file_extension": ".py",
   "mimetype": "text/x-python",
   "name": "python",
   "nbconvert_exporter": "python",
   "pygments_lexer": "ipython3",
   "version": "3.12.1"
  }
 },
 "nbformat": 4,
 "nbformat_minor": 5
}
