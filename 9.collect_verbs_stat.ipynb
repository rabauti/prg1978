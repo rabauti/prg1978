{
 "cells": [
  {
   "cell_type": "markdown",
   "metadata": {},
   "source": [
    "# Tasakaalus korpuse verbide statistika kogumine\n"
   ]
  },
  {
   "cell_type": "code",
   "execution_count": 33,
   "metadata": {},
   "outputs": [
    {
     "name": "stdout",
     "output_type": "stream",
     "text": [
      "The autoreload extension is already loaded. To reload it, use:\n",
      "  %reload_ext autoreload\n"
     ]
    }
   ],
   "source": [
    "%load_ext autoreload\n",
    "%autoreload 2"
   ]
  },
  {
   "cell_type": "code",
   "execution_count": 34,
   "metadata": {},
   "outputs": [],
   "source": [
    "from datetime import datetime\n",
    "\n",
    "from data_helpers.syntax_graph import SyntaxGraph\n",
    "from data_helpers.tasak_reader import TasakReader\n",
    "from data_helpers.utils import ListUtils"
   ]
  },
  {
   "cell_type": "code",
   "execution_count": 35,
   "metadata": {},
   "outputs": [
    {
     "name": "stdout",
     "output_type": "stream",
     "text": [
      "data/tasak.vert\n"
     ]
    },
    {
     "name": "stderr",
     "output_type": "stream",
     "text": [
      "TSV lines: 100%|██████████| 20058039/20058039 [01:18<00:00, 255824.35it/s]"
     ]
    },
    {
     "name": "stdout",
     "output_type": "stream",
     "text": [
      "Verbs total: 2767812\n",
      "CPU times: user 1min 18s, sys: 801 ms, total: 1min 18s\n",
      "Wall time: 1min 19s\n"
     ]
    },
    {
     "name": "stderr",
     "output_type": "stream",
     "text": [
      "\n"
     ]
    }
   ],
   "source": [
    "%%time\n",
    "\n",
    "file_name = 'data/tasak.vert'\n",
    "\n",
    "my_reader = TasakReader(\n",
    "   file_name = file_name\n",
    ")\n",
    "\n",
    "stats = {}\n",
    "\n",
    "date_time = datetime.now().strftime(\"%Y%m%d-%H%M%S\")\n",
    "\n",
    "\n",
    "\n",
    "# hoitakse algusest lõpuni mälus\n",
    "verb_plain_stat = {}\n",
    "verbs_compound_stat = {}\n",
    "verbs_total = 0\n",
    "\n",
    "\n",
    "count = 0\n",
    "for collection_id, graph in my_reader.get_sentences():\n",
    "    # matrix for node distances\n",
    "    dpath = graph.get_distances_matrix()\n",
    "    \n",
    "    # eraldame ainult verbid:\n",
    "    verb_nodes = graph.get_nodes_by_attributes(attrname=\"POS\", attrvalue=\"V\")\n",
    "    # compound:prt\n",
    "    compound_nodes = graph.get_nodes_by_attributes(\n",
    "        attrname=\"deprel\", attrvalue=\"compound:prt\"\n",
    "    )\n",
    "    for verb in verb_nodes:\n",
    "        verbs_total += 1\n",
    "        lemma = graph.nodes[verb]['lemma']\n",
    "        if not lemma in verb_plain_stat:\n",
    "            verb_plain_stat[lemma] = 0\n",
    "        verb_plain_stat[lemma] += 1\n",
    "\n",
    "        # compound \n",
    "        kids = [k for k in dpath[verb] if dpath[verb][k] == 1]\n",
    "        # compound children\n",
    "        n_compounds = ListUtils.list_intersection(kids, compound_nodes)\n",
    "        if not len(n_compounds):\n",
    "            verb_compound = \"\"\n",
    "            n_compounds.append(None)\n",
    "        else:\n",
    "            verb_compound = \", \".join(\n",
    "                [graph.nodes[n][\"lemma\"] for n in sorted(n_compounds) if n]\n",
    "            )\n",
    "        key = (lemma, verb_compound, )\n",
    "        if not key in verbs_compound_stat:\n",
    "            verbs_compound_stat[key] = 0\n",
    "        verbs_compound_stat[key] += 1\n",
    "        \n",
    "print('Verbs total:', verbs_total)\n",
    " "
   ]
  },
  {
   "cell_type": "code",
   "execution_count": 36,
   "metadata": {},
   "outputs": [],
   "source": [
    "import pandas as pd"
   ]
  },
  {
   "cell_type": "code",
   "execution_count": 37,
   "metadata": {},
   "outputs": [],
   "source": [
    "verb_plain_list = [(key, value) for key, value in verb_plain_stat.items()]\n",
    "df_plain = pd.DataFrame(verb_plain_list, columns=[\"verb\", \"total\"])\n",
    "df_plain.head()\n",
    "\n",
    "df_plain.to_csv(f\"tasak_verb_{date_time}.tsv\", index=None, sep=\"\\t\")"
   ]
  },
  {
   "cell_type": "code",
   "execution_count": 38,
   "metadata": {},
   "outputs": [
    {
     "data": {
      "text/html": [
       "<div>\n",
       "<style scoped>\n",
       "    .dataframe tbody tr th:only-of-type {\n",
       "        vertical-align: middle;\n",
       "    }\n",
       "\n",
       "    .dataframe tbody tr th {\n",
       "        vertical-align: top;\n",
       "    }\n",
       "\n",
       "    .dataframe thead th {\n",
       "        text-align: right;\n",
       "    }\n",
       "</style>\n",
       "<table border=\"1\" class=\"dataframe\">\n",
       "  <thead>\n",
       "    <tr style=\"text-align: right;\">\n",
       "      <th></th>\n",
       "      <th>verb</th>\n",
       "      <th>compound</th>\n",
       "      <th>total</th>\n",
       "    </tr>\n",
       "  </thead>\n",
       "  <tbody>\n",
       "    <tr>\n",
       "      <th>0</th>\n",
       "      <td>olema</td>\n",
       "      <td></td>\n",
       "      <td>1</td>\n",
       "    </tr>\n",
       "    <tr>\n",
       "      <th>1</th>\n",
       "      <td>ignoreerima</td>\n",
       "      <td></td>\n",
       "      <td>1</td>\n",
       "    </tr>\n",
       "    <tr>\n",
       "      <th>2</th>\n",
       "      <td>võima</td>\n",
       "      <td></td>\n",
       "      <td>1</td>\n",
       "    </tr>\n",
       "    <tr>\n",
       "      <th>3</th>\n",
       "      <td>võitma</td>\n",
       "      <td></td>\n",
       "      <td>1</td>\n",
       "    </tr>\n",
       "    <tr>\n",
       "      <th>4</th>\n",
       "      <td>toimima</td>\n",
       "      <td></td>\n",
       "      <td>1</td>\n",
       "    </tr>\n",
       "  </tbody>\n",
       "</table>\n",
       "</div>"
      ],
      "text/plain": [
       "          verb compound  total\n",
       "0        olema               1\n",
       "1  ignoreerima               1\n",
       "2        võima               1\n",
       "3       võitma               1\n",
       "4      toimima               1"
      ]
     },
     "metadata": {},
     "output_type": "display_data"
    }
   ],
   "source": [
    "verbs_compound_list = [\n",
    "    (key[0], key[1], value) for key, value in verbs_compound_stat.items()\n",
    "]\n",
    "df_compound = pd.DataFrame(verbs_compound_list, columns=[\"verb\", \"compound\", \"total\"])\n",
    "display(df_compound.head())\n",
    "\n",
    "df_compound.to_csv(f\"tasak_verb_afiksaaladverb_{date_time}.tsv\", index=None, sep=\"\\t\")"
   ]
  }
 ],
 "metadata": {
  "kernelspec": {
   "display_name": "venv",
   "language": "python",
   "name": "python3"
  },
  "language_info": {
   "codemirror_mode": {
    "name": "ipython",
    "version": 3
   },
   "file_extension": ".py",
   "mimetype": "text/x-python",
   "name": "python",
   "nbconvert_exporter": "python",
   "pygments_lexer": "ipython3",
   "version": "3.12.3"
  }
 },
 "nbformat": 4,
 "nbformat_minor": 2
}
