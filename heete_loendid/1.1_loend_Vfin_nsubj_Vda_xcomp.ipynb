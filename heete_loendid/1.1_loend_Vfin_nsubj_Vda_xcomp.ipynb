{
 "cells": [
  {
   "cell_type": "code",
   "execution_count": 71,
   "metadata": {},
   "outputs": [
    {
     "name": "stdout",
     "output_type": "stream",
     "text": [
      "The autoreload extension is already loaded. To reload it, use:\n",
      "  %reload_ext autoreload\n"
     ]
    }
   ],
   "source": [
    "%load_ext autoreload\n",
    "%autoreload 2"
   ]
  },
  {
   "cell_type": "code",
   "execution_count": 72,
   "metadata": {},
   "outputs": [
    {
     "name": "stdout",
     "output_type": "stream",
     "text": [
      "/Users/rabauti/repos/eki/prg1978/heete_loendid\n"
     ]
    }
   ],
   "source": [
    "!pwd\n",
    "import sys\n",
    "import os\n",
    "sys.path.append(os.path.abspath('../'))"
   ]
  },
  {
   "cell_type": "code",
   "execution_count": 73,
   "metadata": {},
   "outputs": [],
   "source": [
    "import pandas as pd\n",
    "from datetime import datetime\n",
    "\n",
    "from data_helpers.syntax_graph import SyntaxGraph\n",
    "from data_helpers.tasak_reader import TasakReader\n",
    "\n",
    "# functions for creating database and collecting collocations\n",
    "from collect_functions_1_1 import *"
   ]
  },
  {
   "cell_type": "markdown",
   "metadata": {},
   "source": [
    "# Tabel 1.1 andmete kogumine\n",
    "\n",
    "Aluseks on: "
   ]
  },
  {
   "cell_type": "code",
   "execution_count": 74,
   "metadata": {},
   "outputs": [
    {
     "name": "stdout",
     "output_type": "stream",
     "text": [
      "CPU times: user 13 µs, sys: 18 µs, total: 31 µs\n",
      "Wall time: 31.9 µs\n"
     ]
    }
   ],
   "source": [
    "%%time\n",
    "\n",
    "file_name = '../data/tasak.vert'\n",
    "my_reader = TasakReader(\n",
    "   file_name = file_name\n",
    ")"
   ]
  },
  {
   "cell_type": "code",
   "execution_count": 75,
   "metadata": {},
   "outputs": [
    {
     "ename": "SyntaxError",
     "evalue": "incomplete input (<unknown>, line 51)",
     "output_type": "error",
     "traceback": [
      "Traceback \u001b[0;36m(most recent call last)\u001b[0m:\n",
      "\u001b[0m  File \u001b[1;32m~/repos/eki/prg1978/venv/lib/python3.12/site-packages/IPython/core/interactiveshell.py:3553\u001b[0m in \u001b[1;35mrun_code\u001b[0m\n    exec(code_obj, self.user_global_ns, self.user_ns)\u001b[0m\n",
      "\u001b[0m  Cell \u001b[1;32mIn[75], line 1\u001b[0m\n    get_ipython().run_cell_magic('time', '', '\\nTYPE = \\'verb_nsubj_vda_xcomp\\'\\nTABLENAME = f\\'{TYPE}\\'\\nBATCH_SIZE = 1000\\n\\ndate_time = datetime.now().strftime(\"%Y%m%d-%H%M%S\")\\ndb_file_name = f\"tasak_test_{TYPE}_collocations_{date_time}.db\"\\n\\nmy_sqlite_db = DbMethods(db_file_name=db_file_name, table1_name=TYPE, table2_name=TYPE+\\'_examples\\')\\nmy_sqlite_db.prep_coll_db()\\n\\n\\n# hoitakse algusest lõpuni mälus\\nverb_global_stat = {}\\n\\n# kollokatsioonid, tühjendatakse peale igat salvestamist\\ncollocations = {}\\ncount = 0\\nfor collection_id, graph in my_reader.get_sentences():\\n    \\n    count += 1\\n    if not collection_id:\\n        collection_id = count\\n\\n    #print(f\\'---------- {count} --- {collection_id} -----------\\')\\n    \\n    #print(str(graph))\\n    #for n in sorted(graph.nodes): print(graph.nodes[n])\\n    #print(\\'\\')\\n    #print(\\' \\'.join([graph.nodes[n][\\'form\\'] for n in sorted(graph.nodes) if n]))\\n\\n    #if count <= 100: graph.draw_graph()\\n\\n    \\n    collocations, verb_global_stat, = extract_something(graph, collection_id, collocations, verb_global_stat )\\n    \\n\\n    #for c in collocations:\\n    #    print(c, collocations[c])\\n    #print()\\n\\n    if not collection_id == 0 and not collection_id % BATCH_SIZE:\\n        #my_sqlite_db.save_coll_to_db(collocations, collection_id)\\n        #collocations = {}\\n    \\n\\n    \\n    \\n# saving last batch\\n#my_sqlite_db.save_coll_to_db(collocations, collection_id)\\n#collocations = {}\\n#my_sqlite_db.index_fields()\\n')\u001b[0m\n",
      "\u001b[0m  File \u001b[1;32m~/repos/eki/prg1978/venv/lib/python3.12/site-packages/IPython/core/interactiveshell.py:2517\u001b[0m in \u001b[1;35mrun_cell_magic\u001b[0m\n    result = fn(*args, **kwargs)\u001b[0m\n",
      "\u001b[0m  File \u001b[1;32m~/repos/eki/prg1978/venv/lib/python3.12/site-packages/IPython/core/magics/execution.py:1296\u001b[0m in \u001b[1;35mtime\u001b[0m\n    expr_ast = self.shell.compile.ast_parse(expr)\u001b[0m\n",
      "\u001b[0;36m  File \u001b[0;32m~/repos/eki/prg1978/venv/lib/python3.12/site-packages/IPython/core/compilerop.py:86\u001b[0;36m in \u001b[0;35mast_parse\u001b[0;36m\n\u001b[0;31m    return compile(source, filename, symbol, self.flags | PyCF_ONLY_AST, 1)\u001b[0;36m\n",
      "\u001b[0;36m  File \u001b[0;32m<unknown>:51\u001b[0;36m\u001b[0m\n\u001b[0;31m    #my_sqlite_db.index_fields()\u001b[0m\n\u001b[0m                                ^\u001b[0m\n\u001b[0;31mSyntaxError\u001b[0m\u001b[0;31m:\u001b[0m incomplete input\n"
     ]
    }
   ],
   "source": [
    "%%time\n",
    "\n",
    "TYPE = 'verb_nsubj_vda_xcomp'\n",
    "TABLENAME = f'{TYPE}'\n",
    "BATCH_SIZE = 1000\n",
    "\n",
    "date_time = datetime.now().strftime(\"%Y%m%d-%H%M%S\")\n",
    "db_file_name = f\"tasak_test_{TYPE}_collocations_{date_time}.db\"\n",
    "\n",
    "my_sqlite_db = DbMethods(db_file_name=db_file_name, table1_name=TYPE, table2_name=TYPE+'_examples')\n",
    "my_sqlite_db.prep_coll_db()\n",
    "\n",
    "\n",
    "# hoitakse algusest lõpuni mälus\n",
    "verb_global_stat = {}\n",
    "\n",
    "# kollokatsioonid, tühjendatakse peale igat salvestamist\n",
    "collocations = {}\n",
    "count = 0\n",
    "for collection_id, graph in my_reader.get_sentences():\n",
    "    \n",
    "    count += 1\n",
    "    if not collection_id:\n",
    "        collection_id = count\n",
    "\n",
    "    #print(f'---------- {count} --- {collection_id} -----------')\n",
    "    \n",
    "    #print(str(graph))\n",
    "    #for n in sorted(graph.nodes): print(graph.nodes[n])\n",
    "    #print('')\n",
    "    #print(' '.join([graph.nodes[n]['form'] for n in sorted(graph.nodes) if n]))\n",
    "\n",
    "    #if count <= 100: graph.draw_graph()\n",
    "\n",
    "    \n",
    "    collocations, verb_global_stat, = extract_something(graph, collection_id, collocations, verb_global_stat )\n",
    "    \n",
    "\n",
    "    #for c in collocations:\n",
    "    #    print(c, collocations[c])\n",
    "    #print()\n",
    "\n",
    "    if not collection_id == 0 and not collection_id % BATCH_SIZE:\n",
    "        pass\n",
    "        #my_sqlite_db.save_coll_to_db(collocations, collection_id)\n",
    "        #collocations = {}\n",
    "    \n",
    "\n",
    "    \n",
    "    \n",
    "# saving last batch\n",
    "#my_sqlite_db.save_coll_to_db(collocations, collection_id)\n",
    "#collocations = {}\n",
    "#my_sqlite_db.index_fields()\n"
   ]
  }
 ],
 "metadata": {
  "kernelspec": {
   "display_name": "prg1978_3.12",
   "language": "python",
   "name": "prg1978_3.12"
  },
  "language_info": {
   "codemirror_mode": {
    "name": "ipython",
    "version": 3
   },
   "file_extension": ".py",
   "mimetype": "text/x-python",
   "name": "python",
   "nbconvert_exporter": "python",
   "pygments_lexer": "ipython3",
   "version": "3.12.1"
  }
 },
 "nbformat": 4,
 "nbformat_minor": 2
}
