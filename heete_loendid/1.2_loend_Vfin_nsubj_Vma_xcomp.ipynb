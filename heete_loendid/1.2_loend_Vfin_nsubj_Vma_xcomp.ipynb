{
 "cells": [
  {
   "cell_type": "code",
   "execution_count": 6,
   "metadata": {},
   "outputs": [
    {
     "name": "stdout",
     "output_type": "stream",
     "text": [
      "The autoreload extension is already loaded. To reload it, use:\n",
      "  %reload_ext autoreload\n"
     ]
    }
   ],
   "source": [
    "%load_ext autoreload\n",
    "%autoreload 2"
   ]
  },
  {
   "cell_type": "code",
   "execution_count": 7,
   "metadata": {},
   "outputs": [
    {
     "name": "stdout",
     "output_type": "stream",
     "text": [
      "/Users/rabauti/repos/eki/prg1978/heete_loendid\n"
     ]
    }
   ],
   "source": [
    "!pwd\n",
    "import sys\n",
    "import os\n",
    "sys.path.append(os.path.abspath('../'))"
   ]
  },
  {
   "cell_type": "code",
   "execution_count": 8,
   "metadata": {},
   "outputs": [],
   "source": [
    "from datetime import datetime\n",
    "\n",
    "from data_helpers.syntax_graph import SyntaxGraph\n",
    "from data_helpers.tasak_reader import TasakReader\n",
    "\n",
    "# functions for creating database and collecting collocations\n",
    "from collect_functions_1_2 import *"
   ]
  },
  {
   "cell_type": "markdown",
   "metadata": {},
   "source": []
  },
  {
   "cell_type": "markdown",
   "metadata": {},
   "source": [
    "# Tabel 1.2 andmete kogumine\n",
    "\n",
    "\n",
    "\n",
    "\"Lisaks võiks otsida sama malli järgi (tabel 1.1), aga da-infi asemel oleks ma-inf ja obl alluv adessiivis asemel oleks objekt, ehk nimisõna või asesõna süntaksimärgendiga obj.\"\n",
    "\n",
    "Tasakaalus korpusest kogutakse kokku järgmisele mallile vastavad esinemised:\n",
    "\n",
    "* peaverb pole käskivas kõneviisis ja pole umbisikuline (kategooriate seas pole \"imps\" ja \"imper\");\n",
    "* peaverbi alluvate seas on nsub ja xcomp\n",
    "* xcomp on ma-infinitiivis (kategooriare seas on \"sup\")\n",
    "\n",
    "\n",
    "\n",
    "Skripti töö tulemusena tekitatakse kaks tabelit:\n",
    "\n",
    "### Põhitabel\n",
    "|veerg|\tkirjeldus| filter |\n",
    "|--|--|--|\n",
    "|verb|\tverbi lemma| verbil pole atribuute \"imper\" või \"imps\", verbi deprel pole \"aux\"|\n",
    "|verb_person|\tverbi pööre [ps1, ps2, ps3]| |\n",
    "|nsubj|\tverbi alluv nsubj lemma| |\n",
    "|nsubj_case| nsubj kääne| |\n",
    "|xcomp|\tverbi alluv xcomp lemma, filtreeritud: sup| |\n",
    "|verb_is_aux|\tverbi deprel on aux| |\n",
    "|has_obj| \tverbil esines alluv deprel=obj| |\n",
    "|total|\tkokku absoluutseid esinemisi Tasakaalus korpuses| |\n",
    "\t\n",
    "\t\n",
    "\t\n",
    "### Näited\t\n",
    "|veerg|\tkirjeldus|\n",
    "|--|--|\n",
    "|sentence_id|\tlause id korpuses (hetkel pole sellest suurt kasu)|\n",
    "|verb\t|peaverbi lemma|\n",
    "|sentence_part|lause osa, kus on verb+vahetud verbi alluvad lauses esinemise järjekorras|\n",
    "|sentence_text\t|lause kogu tekst|\n",
    "|verb_id\t|tegusõna sõna number lauses (hetkel pole sellest suurt kasu)|\n"
   ]
  },
  {
   "cell_type": "code",
   "execution_count": null,
   "metadata": {},
   "outputs": [],
   "source": []
  },
  {
   "cell_type": "code",
   "execution_count": 9,
   "metadata": {},
   "outputs": [
    {
     "name": "stdout",
     "output_type": "stream",
     "text": [
      "CPU times: user 12 µs, sys: 21 µs, total: 33 µs\n",
      "Wall time: 34.1 µs\n"
     ]
    }
   ],
   "source": [
    "%%time\n",
    "\n",
    "file_name = '../data/tasak.vert'\n",
    "my_reader = TasakReader(\n",
    "   file_name = file_name\n",
    ")"
   ]
  },
  {
   "cell_type": "code",
   "execution_count": 10,
   "metadata": {},
   "outputs": [
    {
     "name": "stdout",
     "output_type": "stream",
     "text": [
      "../data/tasak.vert\n"
     ]
    },
    {
     "name": "stderr",
     "output_type": "stream",
     "text": [
      "TSV lines:   9%|▉         | 1784811/20058039 [00:07<01:42, 177733.91it/s]"
     ]
    },
    {
     "name": "stdout",
     "output_type": "stream",
     "text": [
      "andmebaasi salvestatud kollokatsioonid kollektsioonidest:0 - 346546\n"
     ]
    },
    {
     "name": "stderr",
     "output_type": "stream",
     "text": [
      "TSV lines:  18%|█▊        | 3559709/20058039 [00:15<01:08, 240951.07it/s]"
     ]
    },
    {
     "name": "stdout",
     "output_type": "stream",
     "text": [
      "andmebaasi salvestatud kollokatsioonid kollektsioonidest:0 - 4759049\n"
     ]
    },
    {
     "name": "stderr",
     "output_type": "stream",
     "text": [
      "TSV lines:  26%|██▌       | 5215580/20058039 [00:22<01:03, 235572.37it/s]"
     ]
    },
    {
     "name": "stdout",
     "output_type": "stream",
     "text": [
      "andmebaasi salvestatud kollokatsioonid kollektsioonidest:0 - 7050913\n"
     ]
    },
    {
     "name": "stderr",
     "output_type": "stream",
     "text": [
      "TSV lines:  34%|███▎      | 6732409/20058039 [00:28<01:03, 209284.66it/s]"
     ]
    },
    {
     "name": "stdout",
     "output_type": "stream",
     "text": [
      "andmebaasi salvestatud kollokatsioonid kollektsioonidest:0 - 7276941\n"
     ]
    },
    {
     "name": "stderr",
     "output_type": "stream",
     "text": [
      "TSV lines:  42%|████▏     | 8344133/20058039 [00:35<00:49, 237739.54it/s]"
     ]
    },
    {
     "name": "stdout",
     "output_type": "stream",
     "text": [
      "andmebaasi salvestatud kollokatsioonid kollektsioonidest:0 - 7411429\n"
     ]
    },
    {
     "name": "stderr",
     "output_type": "stream",
     "text": [
      "TSV lines:  50%|████▉     | 9973936/20058039 [00:42<00:42, 236130.72it/s]"
     ]
    },
    {
     "name": "stdout",
     "output_type": "stream",
     "text": [
      "andmebaasi salvestatud kollokatsioonid kollektsioonidest:0 - 7714558\n"
     ]
    },
    {
     "name": "stderr",
     "output_type": "stream",
     "text": [
      "TSV lines:  58%|█████▊    | 11534826/20058039 [00:48<00:40, 212713.97it/s]"
     ]
    },
    {
     "name": "stdout",
     "output_type": "stream",
     "text": [
      "andmebaasi salvestatud kollokatsioonid kollektsioonidest:0 - 7986984\n"
     ]
    },
    {
     "name": "stderr",
     "output_type": "stream",
     "text": [
      "TSV lines:  67%|██████▋   | 13339034/20058039 [00:56<00:28, 234317.20it/s]"
     ]
    },
    {
     "name": "stdout",
     "output_type": "stream",
     "text": [
      "andmebaasi salvestatud kollokatsioonid kollektsioonidest:0 - 8489464\n"
     ]
    },
    {
     "name": "stderr",
     "output_type": "stream",
     "text": [
      "TSV lines:  75%|███████▍  | 14953474/20058039 [01:02<00:21, 236560.69it/s]"
     ]
    },
    {
     "name": "stdout",
     "output_type": "stream",
     "text": [
      "andmebaasi salvestatud kollokatsioonid kollektsioonidest:0 - 8807195\n"
     ]
    },
    {
     "name": "stderr",
     "output_type": "stream",
     "text": [
      "TSV lines:  83%|████████▎ | 16560503/20058039 [01:09<00:15, 230081.11it/s]"
     ]
    },
    {
     "name": "stdout",
     "output_type": "stream",
     "text": [
      "andmebaasi salvestatud kollokatsioonid kollektsioonidest:0 - 10136385\n"
     ]
    },
    {
     "name": "stderr",
     "output_type": "stream",
     "text": [
      "TSV lines:  91%|█████████ | 18187281/20058039 [01:16<00:08, 229759.97it/s]"
     ]
    },
    {
     "name": "stdout",
     "output_type": "stream",
     "text": [
      "andmebaasi salvestatud kollokatsioonid kollektsioonidest:0 - 14295795\n"
     ]
    },
    {
     "name": "stderr",
     "output_type": "stream",
     "text": [
      "TSV lines:  99%|█████████▉| 19873839/20058039 [01:23<00:00, 232018.79it/s]"
     ]
    },
    {
     "name": "stdout",
     "output_type": "stream",
     "text": [
      "andmebaasi salvestatud kollokatsioonid kollektsioonidest:0 - 18956465\n"
     ]
    },
    {
     "name": "stderr",
     "output_type": "stream",
     "text": [
      "TSV lines: 100%|██████████| 20058039/20058039 [01:23<00:00, 239038.58it/s]"
     ]
    },
    {
     "name": "stdout",
     "output_type": "stream",
     "text": [
      "andmebaasi salvestatud kollokatsioonid kollektsioonidest:0 - 18969731\n",
      "CPU times: user 1min 22s, sys: 1.14 s, total: 1min 24s\n",
      "Wall time: 1min 24s\n"
     ]
    },
    {
     "name": "stderr",
     "output_type": "stream",
     "text": [
      "\n"
     ]
    }
   ],
   "source": [
    "%%time\n",
    "\n",
    "TYPE = 'verb_nsubj_vma_xcomp'\n",
    "TABLENAME = f'{TYPE}'\n",
    "BATCH_SIZE = 100000\n",
    "\n",
    "date_time = datetime.now().strftime(\"%Y%m%d-%H%M%S\")\n",
    "db_file_name = f\"tasak_test_{TYPE}_collocations_{date_time}.db\"\n",
    "\n",
    "my_sqlite_db = DbMethods(db_file_name=db_file_name, table1_name=TYPE, table2_name=TYPE+'_examples')\n",
    "my_sqlite_db.prep_coll_db()\n",
    "\n",
    "\n",
    "# hoitakse algusest lõpuni mälus\n",
    "examples = {}\n",
    "\n",
    "# kollokatsioonid, tühjendatakse peale igat salvestamist\n",
    "collocations = {}\n",
    "count = 0\n",
    "for collection_id, graph in my_reader.get_sentences():\n",
    "    \n",
    "    count += 1\n",
    "    if not collection_id:\n",
    "        collection_id = count\n",
    "\n",
    "    #print(f'---------- {count} --- {collection_id} -----------')\n",
    "    \n",
    "    #print(str(graph))\n",
    "    #for n in sorted(graph.nodes): print(graph.nodes[n])\n",
    "    #print('')\n",
    "    #print(' '.join([graph.nodes[n]['form'] for n in sorted(graph.nodes) if n]))\n",
    "\n",
    "    #if count <= 100: graph.draw_graph()\n",
    "\n",
    "    \n",
    "    collocations, examples, = extract_something(graph, collection_id, collocations, examples )\n",
    "    \n",
    "\n",
    "    #for c in collocations:\n",
    "    #    print(c, collocations[c])\n",
    "    #print()\n",
    "\n",
    "    if not collection_id == 0 and not count % BATCH_SIZE:\n",
    "        my_sqlite_db.save_coll_to_db(collocations, collection_id)\n",
    "        collocations = {}\n",
    "    \n",
    "\n",
    "    \n",
    "    \n",
    "# saving last batch\n",
    "my_sqlite_db.save_coll_to_db(collocations, collection_id)\n",
    "collocations = {}\n",
    "my_sqlite_db.index_fields()\n"
   ]
  }
 ],
 "metadata": {
  "kernelspec": {
   "display_name": "prg1978_3.12",
   "language": "python",
   "name": "prg1978_3.12"
  },
  "language_info": {
   "codemirror_mode": {
    "name": "ipython",
    "version": 3
   },
   "file_extension": ".py",
   "mimetype": "text/x-python",
   "name": "python",
   "nbconvert_exporter": "python",
   "pygments_lexer": "ipython3",
   "version": "3.12.1"
  }
 },
 "nbformat": 4,
 "nbformat_minor": 2
}
