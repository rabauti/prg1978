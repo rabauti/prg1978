{
 "cells": [
  {
   "cell_type": "code",
   "execution_count": 1,
   "metadata": {},
   "outputs": [],
   "source": [
    "%load_ext autoreload\n",
    "%autoreload 2"
   ]
  },
  {
   "cell_type": "code",
   "execution_count": 2,
   "metadata": {},
   "outputs": [
    {
     "name": "stdout",
     "output_type": "stream",
     "text": [
      "/Users/rabauti/repos/eki/prg1978__opikulausetekorpus/heete_loendid\n"
     ]
    }
   ],
   "source": [
    "!pwd\n",
    "import sys\n",
    "import os\n",
    "sys.path.append(os.path.abspath('../'))\n",
    "import pandas as pd\n",
    "from datetime import datetime\n",
    "\n",
    "from data_helpers.syntax_graph import SyntaxGraph\n",
    "from data_helpers.conllu_reader import CoNNLUReader"
   ]
  },
  {
   "cell_type": "markdown",
   "metadata": {},
   "source": [
    "# Tabel verb + da andmete kogumine\n",
    "\n",
    "\n",
    "**Ülesande püstitus**\n",
    "    \n",
    "Kõik laused, kus esineb tabelis [list_da.csv](list_da.csv) olev verb ja verbil on otsene alluv deprel=xcomp, feats sisaldab inf\n",
    "\n",
    "**Tulemus** \n",
    "\n",
    "Tabel veergudega:\n",
    "1. leitud lause, \n",
    "2. milline tabelis olevates verbidest seal esineb (algvormis), \n",
    "3. da-infinitiivi vormis oleva verbi lemma, \n",
    "4. keeletase.\n",
    "   "
   ]
  },
  {
   "cell_type": "code",
   "execution_count": 9,
   "metadata": {},
   "outputs": [
    {
     "name": "stdout",
     "output_type": "stream",
     "text": [
      "CPU times: user 991 μs, sys: 1.93 ms, total: 2.92 ms\n",
      "Wall time: 2.5 ms\n"
     ]
    }
   ],
   "source": [
    "%%time\n",
    "\n",
    "# verbid etteantud nimekirjast\n",
    "df_verbs = pd.read_csv('list_da.csv')\n",
    "my_verbs = list(df_verbs['lemma'].unique())\n",
    "\n",
    "\n",
    "file_name = '../data/Eesti-keele-kui-teise-keele-kooliõpikute-lausete-korpus-2021.conllu'\n",
    "my_reader = CoNNLUReader(\n",
    "   file_name = file_name\n",
    ")\n"
   ]
  },
  {
   "cell_type": "code",
   "execution_count": 10,
   "metadata": {},
   "outputs": [
    {
     "data": {
      "text/plain": [
       "['saama',\n",
       " 'suutma',\n",
       " 'jaksama',\n",
       " 'jõudma',\n",
       " 'nägema',\n",
       " 'oskama',\n",
       " 'teadma',\n",
       " 'mõistma',\n",
       " 'tohtima',\n",
       " 'võima',\n",
       " 'tahtma',\n",
       " 'kavatsema',\n",
       " 'plaanima',\n",
       " 'otsustama',\n",
       " 'lootma',\n",
       " 'soovima',\n",
       " 'igatsema',\n",
       " 'ihkama',\n",
       " 'maldama',\n",
       " 'kärsima',\n",
       " 'läbema',\n",
       " 'unistama',\n",
       " 'ootama',\n",
       " 'himustama',\n",
       " 'taotlema',\n",
       " 'ilgema',\n",
       " 'sügelema',\n",
       " 'kibelema',\n",
       " 'janunema',\n",
       " 'kaaluma',\n",
       " 'kavandama',\n",
       " 'kokku leppima',\n",
       " 'mõtlema',\n",
       " 'plaanitsema',\n",
       " 'planeerima',\n",
       " 'sihtima',\n",
       " 'märkama',\n",
       " 'taipama',\n",
       " 'unustama',\n",
       " 'kartma',\n",
       " 'häbenema',\n",
       " 'armastama',\n",
       " 'eelistama',\n",
       " 'julgema',\n",
       " 'söandama',\n",
       " 'tihkama',\n",
       " 'riskima',\n",
       " 'usaldama',\n",
       " 'riskeerima',\n",
       " 'uskuma',\n",
       " 'suvatsema',\n",
       " 'viitsima',\n",
       " 'paljuks pidama',\n",
       " 'raatsima',\n",
       " 'täima',\n",
       " 'vaevaks võtma',\n",
       " 'pelgama',\n",
       " 'põlgama',\n",
       " 'tõrkuma',\n",
       " 'kõhklema',\n",
       " 'pruukima',\n",
       " 'tarvitsema',\n",
       " 'lubama',\n",
       " 'ähvardama',\n",
       " 'tõotama',\n",
       " 'vanduma',\n",
       " 'proovima',\n",
       " 'püüdma',\n",
       " 'katsuma',\n",
       " 'üritama',\n",
       " 'tavatsema',\n",
       " 'harrastama',\n",
       " 'väärima']"
      ]
     },
     "execution_count": 10,
     "metadata": {},
     "output_type": "execute_result"
    }
   ],
   "source": [
    "my_verbs"
   ]
  },
  {
   "cell_type": "code",
   "execution_count": 11,
   "metadata": {},
   "outputs": [
    {
     "name": "stdout",
     "output_type": "stream",
     "text": [
      "../data/Eesti-keele-kui-teise-keele-kooliõpikute-lausete-korpus-2021.conllu\n",
      "CPU times: user 4.16 s, sys: 77.5 ms, total: 4.24 s\n",
      "Wall time: 4.27 s\n"
     ]
    }
   ],
   "source": [
    "%%time\n",
    "\n",
    "date_time = datetime.now().strftime(\"%Y%m%d-%H%M%S\")\n",
    "\n",
    "collected_data = []\n",
    "count = 0\n",
    "for collection_id, graph in my_reader.get_sentences():\n",
    "    # matrix for node distances\n",
    "    dpath = graph.get_distances_matrix()\n",
    "    \n",
    "    # verb nodes\n",
    "    verb_nodes = [v for v in graph.get_nodes_by_attributes(attrname=\"POS\", attrvalue=\"VERB\") if graph.nodes[v][\"lemma\"] in my_verbs]\n",
    "    if not len(verb_nodes): continue\n",
    "    \n",
    "    # xcomp\n",
    "    xcomp_nodes = graph.get_nodes_by_attributes(attrname=\"deprel\", attrvalue=\"xcomp\")\n",
    "   \n",
    "    if not len(xcomp_nodes): continue\n",
    "    \n",
    "    for verb in verb_nodes:\n",
    "        # childnodes\n",
    "        kids = [k for k in dpath[verb] if dpath[verb][k] == 1]\n",
    "        for xcomp in xcomp_nodes:\n",
    "            if xcomp not in kids:\n",
    "                continue\n",
    "            if not graph.nodes[xcomp][\"feats\"] or \"VerbForm\" not in graph.nodes[xcomp][\"feats\"].keys() or not graph.nodes[xcomp][\"feats\"][\"VerbForm\"] == 'Inf':\n",
    "                continue\n",
    "            \n",
    "            #graph.draw_graph2(highlight=[verb, xcomp])\n",
    "            d = {\n",
    "                'id':  graph.get_metadata('row_nr'),\n",
    "                'sentence':  graph.get_metadata('text'),\n",
    "                'verb':  graph.nodes[verb][\"lemma\"],\n",
    "                'xcomp':  graph.nodes[xcomp][\"lemma\"],\n",
    "                'level':  graph.get_metadata('sent_level'),\n",
    "                'sub': \" \".join(\n",
    "                            [graph.nodes[n][\"form\"] for n in sorted([verb] + kids)]\n",
    "                        ),\n",
    "            }\n",
    "            \n",
    "            collected_data.append(d)\n"
   ]
  },
  {
   "cell_type": "code",
   "execution_count": 12,
   "metadata": {},
   "outputs": [
    {
     "data": {
      "text/html": [
       "<div>\n",
       "<style scoped>\n",
       "    .dataframe tbody tr th:only-of-type {\n",
       "        vertical-align: middle;\n",
       "    }\n",
       "\n",
       "    .dataframe tbody tr th {\n",
       "        vertical-align: top;\n",
       "    }\n",
       "\n",
       "    .dataframe thead th {\n",
       "        text-align: right;\n",
       "    }\n",
       "</style>\n",
       "<table border=\"1\" class=\"dataframe\">\n",
       "  <thead>\n",
       "    <tr style=\"text-align: right;\">\n",
       "      <th></th>\n",
       "      <th>id</th>\n",
       "      <th>sentence</th>\n",
       "      <th>verb</th>\n",
       "      <th>xcomp</th>\n",
       "      <th>level</th>\n",
       "      <th>sub</th>\n",
       "    </tr>\n",
       "  </thead>\n",
       "  <tbody>\n",
       "    <tr>\n",
       "      <th>0</th>\n",
       "      <td>5</td>\n",
       "      <td>Nendel põhikooli lõpetajatel, kes on otsustanu...</td>\n",
       "      <td>otsustama</td>\n",
       "      <td>jätkama</td>\n",
       "      <td>gümn</td>\n",
       "      <td>, kes on otsustanud jätkata ,</td>\n",
       "    </tr>\n",
       "    <tr>\n",
       "      <th>1</th>\n",
       "      <td>9</td>\n",
       "      <td>Üha rohkem leidub noori, kes pärast gümnaasium...</td>\n",
       "      <td>soovima</td>\n",
       "      <td>astuma</td>\n",
       "      <td>gümn</td>\n",
       "      <td>, kes lõpetamist soovivad astuda</td>\n",
       "    </tr>\n",
       "    <tr>\n",
       "      <th>2</th>\n",
       "      <td>36</td>\n",
       "      <td>Isegi pastakat ei julgenud kelleltki küsida.</td>\n",
       "      <td>julgema</td>\n",
       "      <td>küsima</td>\n",
       "      <td>gümn</td>\n",
       "      <td>pastakat ei julgenud küsida .</td>\n",
       "    </tr>\n",
       "    <tr>\n",
       "      <th>3</th>\n",
       "      <td>37</td>\n",
       "      <td>Ükskord püüdsin juttu alustada nii, et küsisin...</td>\n",
       "      <td>püüdma</td>\n",
       "      <td>alustama</td>\n",
       "      <td>gümn</td>\n",
       "      <td>Ükskord püüdsin alustada küsisin .</td>\n",
       "    </tr>\n",
       "    <tr>\n",
       "      <th>4</th>\n",
       "      <td>57</td>\n",
       "      <td>Kui lähed uude kooli, püüa leida vähemalt üks ...</td>\n",
       "      <td>püüdma</td>\n",
       "      <td>leidma</td>\n",
       "      <td>gümn</td>\n",
       "      <td>lähed püüa leida .</td>\n",
       "    </tr>\n",
       "  </tbody>\n",
       "</table>\n",
       "</div>"
      ],
      "text/plain": [
       "   id                                           sentence       verb     xcomp  \\\n",
       "0   5  Nendel põhikooli lõpetajatel, kes on otsustanu...  otsustama   jätkama   \n",
       "1   9  Üha rohkem leidub noori, kes pärast gümnaasium...    soovima    astuma   \n",
       "2  36       Isegi pastakat ei julgenud kelleltki küsida.    julgema    küsima   \n",
       "3  37  Ükskord püüdsin juttu alustada nii, et küsisin...     püüdma  alustama   \n",
       "4  57  Kui lähed uude kooli, püüa leida vähemalt üks ...     püüdma    leidma   \n",
       "\n",
       "  level                                 sub  \n",
       "0  gümn       , kes on otsustanud jätkata ,  \n",
       "1  gümn    , kes lõpetamist soovivad astuda  \n",
       "2  gümn       pastakat ei julgenud küsida .  \n",
       "3  gümn  Ükskord püüdsin alustada küsisin .  \n",
       "4  gümn                  lähed püüa leida .  "
      ]
     },
     "execution_count": 12,
     "metadata": {},
     "output_type": "execute_result"
    }
   ],
   "source": [
    "df = pd.DataFrame.from_dict(collected_data)\n",
    "df.to_csv(f'verb_xcompInf_{date_time}.csv', index=None)\n",
    "df.head()"
   ]
  }
 ],
 "metadata": {
  "kernelspec": {
   "display_name": "venv",
   "language": "python",
   "name": "python3"
  },
  "language_info": {
   "codemirror_mode": {
    "name": "ipython",
    "version": 3
   },
   "file_extension": ".py",
   "mimetype": "text/x-python",
   "name": "python",
   "nbconvert_exporter": "python",
   "pygments_lexer": "ipython3",
   "version": "3.12.3"
  }
 },
 "nbformat": 4,
 "nbformat_minor": 2
}
