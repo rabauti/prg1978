{
 "cells": [
  {
   "cell_type": "code",
   "execution_count": 6,
   "metadata": {},
   "outputs": [
    {
     "name": "stdout",
     "output_type": "stream",
     "text": [
      "The autoreload extension is already loaded. To reload it, use:\n",
      "  %reload_ext autoreload\n"
     ]
    }
   ],
   "source": [
    "%load_ext autoreload\n",
    "%autoreload 2"
   ]
  },
  {
   "cell_type": "code",
   "execution_count": 7,
   "metadata": {},
   "outputs": [
    {
     "name": "stdout",
     "output_type": "stream",
     "text": [
      "/Users/rabauti/repos/eki/prg1978/heete_loendid\n"
     ]
    }
   ],
   "source": [
    "!pwd\n",
    "import sys\n",
    "import os\n",
    "sys.path.append(os.path.abspath('../'))"
   ]
  },
  {
   "cell_type": "code",
   "execution_count": 8,
   "metadata": {},
   "outputs": [],
   "source": [
    "from datetime import datetime\n",
    "\n",
    "from data_helpers.syntax_graph import SyntaxGraph\n",
    "from data_helpers.tasak_reader import TasakReader\n",
    "\n",
    "# functions for creating database and collecting collocations\n",
    "from collect_functions_2_1 import *"
   ]
  },
  {
   "cell_type": "markdown",
   "metadata": {},
   "source": []
  },
  {
   "cell_type": "markdown",
   "metadata": {},
   "source": [
    "# Tabel 2.1 andmete kogumine\n",
    "\n",
    "\n",
    "\"Järgmiseks võiks vaadata selliseid, kus da-infi märgend on csubj ja root verb on 3sg (ainsuse kolmandas isikus). Ühes veerus võiks ära märkida, kas root verbil on allatiivis või adessiivis alluv obl. St välja võiks tulla laused nagu Mulle meeldib lugeda, Mul õnnestus lugeda.\"\n",
    "\n",
    "Tasakaalus korpusest kogutakse kokku järgmisele mallile vastavad esinemised:\n",
    "\n",
    "* peaverb on ainsuse 3 pöördes ps3;\n",
    "* peaverbi alluvate seas on csub\n",
    "* csubj on da-infinitiivis (kategooriare seas on \"inf\")\n",
    "\n",
    "\n",
    "\n",
    "Skripti töö tulemusena tekitatakse kaks tabelit:\n",
    "\n",
    "### Põhitabel\n",
    "|veerg|\tkirjeldus| filter |\n",
    "|--|--|--|\n",
    "|verb|\tverbi lemma| verbil pole atribuute \"imper\" või \"imps\", verbi deprel pole \"aux\"; verb on ps3|\n",
    "|csubj|\tverbi alluv csubj lemma, filtreeritud: inf| |\n",
    "|has_obl_ad_all| \tverbil esines obl alluv adessiivis või allatiivis (ad, all) | |\n",
    "|total|\tkokku absoluutseid esinemisi Tasakaalus korpuses| |\n",
    "\t\n",
    "\t\n",
    "\t\n",
    "### Näited\t\n",
    "|veerg|\tkirjeldus|\n",
    "|--|--|\n",
    "|sentence_id|\tlause id korpuses (hetkel pole sellest suurt kasu)|\n",
    "|verb\t|peaverbi lemma|\n",
    "|sentence_part|lause osa, kus on verb+vahetud verbi alluvad lauses esinemise järjekorras|\n",
    "|sentence_text\t|lause kogu tekst|\n",
    "|verb_id\t|tegusõna sõna number lauses (hetkel pole sellest suurt kasu)|\n"
   ]
  },
  {
   "cell_type": "code",
   "execution_count": null,
   "metadata": {},
   "outputs": [],
   "source": []
  },
  {
   "cell_type": "code",
   "execution_count": 9,
   "metadata": {},
   "outputs": [
    {
     "name": "stdout",
     "output_type": "stream",
     "text": [
      "CPU times: user 14 µs, sys: 17 µs, total: 31 µs\n",
      "Wall time: 31.9 µs\n"
     ]
    }
   ],
   "source": [
    "%%time\n",
    "\n",
    "file_name = '../data/tasak.vert'\n",
    "my_reader = TasakReader(\n",
    "   file_name = file_name\n",
    ")"
   ]
  },
  {
   "cell_type": "code",
   "execution_count": 10,
   "metadata": {},
   "outputs": [
    {
     "name": "stdout",
     "output_type": "stream",
     "text": [
      "../data/tasak.vert\n"
     ]
    },
    {
     "name": "stderr",
     "output_type": "stream",
     "text": [
      "TSV lines:   9%|▉         | 1803434/20058039 [00:06<01:10, 258327.77it/s]"
     ]
    },
    {
     "name": "stdout",
     "output_type": "stream",
     "text": [
      "andmebaasi salvestatud kollokatsioonid kollektsioonidest:0 - 346546\n"
     ]
    },
    {
     "name": "stderr",
     "output_type": "stream",
     "text": [
      "TSV lines:  18%|█▊        | 3582899/20058039 [00:13<01:02, 264351.95it/s]"
     ]
    },
    {
     "name": "stdout",
     "output_type": "stream",
     "text": [
      "andmebaasi salvestatud kollokatsioonid kollektsioonidest:0 - 4759049\n"
     ]
    },
    {
     "name": "stderr",
     "output_type": "stream",
     "text": [
      "TSV lines:  26%|██▌       | 5241007/20058039 [00:19<00:55, 265788.90it/s]"
     ]
    },
    {
     "name": "stdout",
     "output_type": "stream",
     "text": [
      "andmebaasi salvestatud kollokatsioonid kollektsioonidest:0 - 7050913\n"
     ]
    },
    {
     "name": "stderr",
     "output_type": "stream",
     "text": [
      "TSV lines:  28%|██▊       | 5703028/20058039 [00:21<00:53, 270506.07it/s]"
     ]
    }
   ],
   "source": [
    "%%time\n",
    "\n",
    "TYPE = 'verb_ps3_csubj_vda'\n",
    "TABLENAME = f'{TYPE}'\n",
    "BATCH_SIZE = 100000\n",
    "\n",
    "date_time = datetime.now().strftime(\"%Y%m%d-%H%M%S\")\n",
    "db_file_name = f\"tasak_test_{TYPE}_collocations_{date_time}.db\"\n",
    "\n",
    "my_sqlite_db = DbMethods(db_file_name=db_file_name, table1_name=TYPE, table2_name=TYPE+'_examples')\n",
    "my_sqlite_db.prep_coll_db()\n",
    "\n",
    "\n",
    "# hoitakse algusest lõpuni mälus\n",
    "examples = {}\n",
    "\n",
    "# kollokatsioonid, tühjendatakse peale igat salvestamist\n",
    "collocations = {}\n",
    "count = 0\n",
    "for collection_id, graph in my_reader.get_sentences():\n",
    "    \n",
    "    count += 1\n",
    "    if not collection_id:\n",
    "        collection_id = count\n",
    "\n",
    "    #print(f'---------- {count} --- {collection_id} -----------')\n",
    "    \n",
    "    #print(str(graph))\n",
    "    #for n in sorted(graph.nodes): print(graph.nodes[n])\n",
    "    #print('')\n",
    "    #print(' '.join([graph.nodes[n]['form'] for n in sorted(graph.nodes) if n]))\n",
    "\n",
    "    #if count <= 100: graph.draw_graph()\n",
    "\n",
    "    \n",
    "    collocations, examples, = extract_something(graph, collection_id, collocations, examples )\n",
    "    \n",
    "\n",
    "    #for c in collocations:\n",
    "    #    print(c, collocations[c])\n",
    "    #print()\n",
    "\n",
    "    if not collection_id == 0 and not count % BATCH_SIZE:\n",
    "        my_sqlite_db.save_coll_to_db(collocations, collection_id)\n",
    "        collocations = {}\n",
    "    \n",
    "\n",
    "    \n",
    "    \n",
    "# saving last batch\n",
    "my_sqlite_db.save_coll_to_db(collocations, collection_id)\n",
    "collocations = {}\n",
    "my_sqlite_db.index_fields()\n"
   ]
  }
 ],
 "metadata": {
  "kernelspec": {
   "display_name": "prg1978_3.12",
   "language": "python",
   "name": "prg1978_3.12"
  },
  "language_info": {
   "codemirror_mode": {
    "name": "ipython",
    "version": 3
   },
   "file_extension": ".py",
   "mimetype": "text/x-python",
   "name": "python",
   "nbconvert_exporter": "python",
   "pygments_lexer": "ipython3",
   "version": "3.12.1"
  }
 },
 "nbformat": 4,
 "nbformat_minor": 2
}
