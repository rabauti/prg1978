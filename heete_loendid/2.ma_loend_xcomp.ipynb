{
 "cells": [
  {
   "cell_type": "code",
   "execution_count": 1,
   "metadata": {},
   "outputs": [],
   "source": [
    "%load_ext autoreload\n",
    "%autoreload 2"
   ]
  },
  {
   "cell_type": "code",
   "execution_count": 7,
   "metadata": {},
   "outputs": [
    {
     "name": "stdout",
     "output_type": "stream",
     "text": [
      "/Users/rabauti/repos/eki/prg1978__opikulausetekorpus/heete_loendid\n"
     ]
    }
   ],
   "source": [
    "!pwd\n",
    "import sys\n",
    "import os\n",
    "sys.path.append(os.path.abspath('../'))\n",
    "import pandas as pd\n",
    "from datetime import datetime\n",
    "\n",
    "from data_helpers.syntax_graph import SyntaxGraph\n",
    "from data_helpers.conllu_reader import CoNNLUReader"
   ]
  },
  {
   "cell_type": "markdown",
   "metadata": {},
   "source": [
    "# Tabel verb + ma andmete kogumine\n",
    "\n",
    "\n",
    "**Ülesande püstitus**\n",
    "    \n",
    "Kõik laused, kus esineb tabelis [list_ma.csv](list_ma.csv) olev verb ja verbil on otsene alluv deprel=xcomp, feats sisaldab sup\n",
    "\n",
    "**Tulemus** \n",
    "\n",
    "Tabel veergudega:\n",
    "1. leitud lause, \n",
    "2. milline tabelis olevates verbidest seal esineb (algvormis), \n",
    "3. ma-infinitiivi vormis oleva verbi lemma, \n",
    "4. keeletase.\n",
    "   "
   ]
  },
  {
   "cell_type": "code",
   "execution_count": 8,
   "metadata": {},
   "outputs": [
    {
     "name": "stdout",
     "output_type": "stream",
     "text": [
      "CPU times: user 3.25 ms, sys: 10.7 ms, total: 13.9 ms\n",
      "Wall time: 32.5 ms\n"
     ]
    }
   ],
   "source": [
    "%%time\n",
    "\n",
    "# verbid etteantud nimekirjast\n",
    "df_verbs = pd.read_csv('list_ma.csv')\n",
    "my_verbs = list(df_verbs['lemma'].unique())\n",
    "\n",
    "\n",
    "file_name = '../data/Model2Eesti-keele-kui-teise-keele-kooliõpikute-lausete-korpus-2021.conllu'\n",
    "my_reader = CoNNLUReader(\n",
    "   file_name = file_name\n",
    ")\n"
   ]
  },
  {
   "cell_type": "code",
   "execution_count": 9,
   "metadata": {},
   "outputs": [
    {
     "data": {
      "text/plain": [
       "['kippuma',\n",
       " 'tikkuma',\n",
       " 'tükkima',\n",
       " 'kibelema',\n",
       " 'sügelema',\n",
       " 'kihelema',\n",
       " 'pürgima',\n",
       " 'püüdlema',\n",
       " 'pretendeerima',\n",
       " 'kalduma',\n",
       " 'tahtma',\n",
       " 'valmistuma',\n",
       " 'ehtima',\n",
       " 'valmistama',\n",
       " 'sättima',\n",
       " 'asutama',\n",
       " 'kohmitsema',\n",
       " 'õppima',\n",
       " 'harjutama',\n",
       " 'häälestuma',\n",
       " 'spetsialiseeruma',\n",
       " 'arenema',\n",
       " 'divergeeruma',\n",
       " 'harjuma',\n",
       " 'sobima',\n",
       " 'kõlbama',\n",
       " 'kvalifitseeruma',\n",
       " 'saama',\n",
       " 'pääsema',\n",
       " 'vabanema',\n",
       " 'jõudma',\n",
       " 'mahtuma',\n",
       " 'ulatuma',\n",
       " 'ulatama',\n",
       " 'küündima',\n",
       " 'nõustuma',\n",
       " 'soostuma',\n",
       " 'kohustuma',\n",
       " 'vaevuma',\n",
       " 'painduma',\n",
       " 'alanduma',\n",
       " 'tegema',\n",
       " 'pidama',\n",
       " 'juhtuma',\n",
       " 'sattuma',\n",
       " 'trehvama',\n",
       " 'sündima',\n",
       " 'registreeruma',\n",
       " 'innustuma',\n",
       " 'keskenduma',\n",
       " 'arvama',\n",
       " 'tajuma',\n",
       " 'riskima',\n",
       " 'tõotama',\n",
       " 'üritama',\n",
       " 'piirduma']"
      ]
     },
     "execution_count": 9,
     "metadata": {},
     "output_type": "execute_result"
    }
   ],
   "source": [
    "my_verbs"
   ]
  },
  {
   "cell_type": "code",
   "execution_count": 10,
   "metadata": {},
   "outputs": [
    {
     "name": "stdout",
     "output_type": "stream",
     "text": [
      "../data/Eesti-keele-kui-teise-keele-kooliõpikute-lausete-korpus-2021.conllu\n",
      "CPU times: user 3.74 s, sys: 51.4 ms, total: 3.79 s\n",
      "Wall time: 3.85 s\n"
     ]
    }
   ],
   "source": [
    "%%time\n",
    "\n",
    "date_time = datetime.now().strftime(\"%Y%m%d-%H%M%S\")\n",
    "\n",
    "collected_data = []\n",
    "count = 0\n",
    "for collection_id, graph in my_reader.get_sentences():\n",
    "    # matrix for node distances\n",
    "    dpath = graph.get_distances_matrix()\n",
    "    \n",
    "    # verb nodes\n",
    "    verb_nodes = [v for v in graph.get_nodes_by_attributes(attrname=\"POS\", attrvalue=\"VERB\") if graph.nodes[v][\"lemma\"] in my_verbs]\n",
    "    if not len(verb_nodes): continue\n",
    "    \n",
    "    # xcomp\n",
    "    xcomp_nodes = graph.get_nodes_by_attributes(attrname=\"deprel\", attrvalue=\"xcomp\")\n",
    "   \n",
    "    if not len(xcomp_nodes): continue\n",
    "    \n",
    "    for verb in verb_nodes:\n",
    "        # childnodes\n",
    "        kids = [k for k in dpath[verb] if dpath[verb][k] == 1]\n",
    "        for xcomp in xcomp_nodes:\n",
    "            if xcomp not in kids:\n",
    "                continue\n",
    "            if not graph.nodes[xcomp][\"feats\"] or \"VerbForm\" not in graph.nodes[xcomp][\"feats\"].keys() or not graph.nodes[xcomp][\"feats\"][\"VerbForm\"] == 'Sup':\n",
    "                continue\n",
    "            \n",
    "            #graph.draw_graph2(highlight=[verb, xcomp])\n",
    "            d = {\n",
    "                'id':  graph.get_metadata('row_id'),\n",
    "                'sentence':  graph.get_metadata('text'),\n",
    "                'verb':  graph.nodes[verb][\"lemma\"],\n",
    "                'xcomp':  graph.nodes[xcomp][\"lemma\"],\n",
    "                'form':  graph.nodes[xcomp][\"form\"],\n",
    "                'level':  graph.get_metadata('sent_level'),\n",
    "                'sub': \" \".join(\n",
    "                            [graph.nodes[n][\"form\"] for n in sorted([verb] + kids)]\n",
    "                        ),\n",
    "            }\n",
    "            \n",
    "            collected_data.append(d)\n"
   ]
  },
  {
   "cell_type": "code",
   "execution_count": 11,
   "metadata": {},
   "outputs": [
    {
     "data": {
      "text/html": [
       "<div>\n",
       "<style scoped>\n",
       "    .dataframe tbody tr th:only-of-type {\n",
       "        vertical-align: middle;\n",
       "    }\n",
       "\n",
       "    .dataframe tbody tr th {\n",
       "        vertical-align: top;\n",
       "    }\n",
       "\n",
       "    .dataframe thead th {\n",
       "        text-align: right;\n",
       "    }\n",
       "</style>\n",
       "<table border=\"1\" class=\"dataframe\">\n",
       "  <thead>\n",
       "    <tr style=\"text-align: right;\">\n",
       "      <th></th>\n",
       "      <th>id</th>\n",
       "      <th>sentence</th>\n",
       "      <th>verb</th>\n",
       "      <th>xcomp</th>\n",
       "      <th>form</th>\n",
       "      <th>level</th>\n",
       "      <th>sub</th>\n",
       "    </tr>\n",
       "  </thead>\n",
       "  <tbody>\n",
       "    <tr>\n",
       "      <th>0</th>\n",
       "      <td>50</td>\n",
       "      <td>Uusi kaaslasi oleks vaja tundma õppida, ent ei...</td>\n",
       "      <td>õppima</td>\n",
       "      <td>tundma</td>\n",
       "      <td>tundma</td>\n",
       "      <td>gümn</td>\n",
       "      <td>kaaslasi tundma õppida</td>\n",
       "    </tr>\n",
       "    <tr>\n",
       "      <th>1</th>\n",
       "      <td>373</td>\n",
       "      <td>Kipute ennast ja oma võimalusi natuke liiga sü...</td>\n",
       "      <td>kippuma</td>\n",
       "      <td>kujutama</td>\n",
       "      <td>kujutama</td>\n",
       "      <td>gümn</td>\n",
       "      <td>Kipute kujutama .</td>\n",
       "    </tr>\n",
       "    <tr>\n",
       "      <th>2</th>\n",
       "      <td>395</td>\n",
       "      <td>Õppige neid hindama eesmärgi saavutamise seisu...</td>\n",
       "      <td>õppima</td>\n",
       "      <td>hindama</td>\n",
       "      <td>hindama</td>\n",
       "      <td>gümn</td>\n",
       "      <td>Õppige hindama .</td>\n",
       "    </tr>\n",
       "    <tr>\n",
       "      <th>3</th>\n",
       "      <td>416</td>\n",
       "      <td>Õpi mängima mõnd pilli.</td>\n",
       "      <td>õppima</td>\n",
       "      <td>mängima</td>\n",
       "      <td>mängima</td>\n",
       "      <td>gümn</td>\n",
       "      <td>Õpi mängima .</td>\n",
       "    </tr>\n",
       "    <tr>\n",
       "      <th>4</th>\n",
       "      <td>429</td>\n",
       "      <td>Õpi eristama Chopini, Mozarti ja Beethoveni mu...</td>\n",
       "      <td>õppima</td>\n",
       "      <td>eristama</td>\n",
       "      <td>eristama</td>\n",
       "      <td>gümn</td>\n",
       "      <td>Õpi eristama .</td>\n",
       "    </tr>\n",
       "  </tbody>\n",
       "</table>\n",
       "</div>"
      ],
      "text/plain": [
       "    id                                           sentence     verb     xcomp  \\\n",
       "0   50  Uusi kaaslasi oleks vaja tundma õppida, ent ei...   õppima    tundma   \n",
       "1  373  Kipute ennast ja oma võimalusi natuke liiga sü...  kippuma  kujutama   \n",
       "2  395  Õppige neid hindama eesmärgi saavutamise seisu...   õppima   hindama   \n",
       "3  416                            Õpi mängima mõnd pilli.   õppima   mängima   \n",
       "4  429  Õpi eristama Chopini, Mozarti ja Beethoveni mu...   õppima  eristama   \n",
       "\n",
       "       form level                     sub  \n",
       "0    tundma  gümn  kaaslasi tundma õppida  \n",
       "1  kujutama  gümn       Kipute kujutama .  \n",
       "2   hindama  gümn        Õppige hindama .  \n",
       "3   mängima  gümn           Õpi mängima .  \n",
       "4  eristama  gümn          Õpi eristama .  "
      ]
     },
     "execution_count": 11,
     "metadata": {},
     "output_type": "execute_result"
    }
   ],
   "source": [
    "df = pd.DataFrame.from_dict(collected_data)\n",
    "df.to_csv(f'verb_xcompSup_{date_time}.csv', index=None)\n",
    "df.head()"
   ]
  }
 ],
 "metadata": {
  "kernelspec": {
   "display_name": "venv",
   "language": "python",
   "name": "python3"
  },
  "language_info": {
   "codemirror_mode": {
    "name": "ipython",
    "version": 3
   },
   "file_extension": ".py",
   "mimetype": "text/x-python",
   "name": "python",
   "nbconvert_exporter": "python",
   "pygments_lexer": "ipython3",
   "version": "3.12.3"
  }
 },
 "nbformat": 4,
 "nbformat_minor": 2
}
