{
 "cells": [
  {
   "cell_type": "code",
   "execution_count": 2,
   "id": "43d66189-f326-4768-9854-005e2de3483c",
   "metadata": {},
   "outputs": [],
   "source": [
    "%load_ext autoreload\n",
    "%autoreload 2\n",
    "\n",
    "from data_helpers.nc21_reader import Nc21Reader\n",
    "\n"
   ]
  },
  {
   "cell_type": "markdown",
   "id": "bbf2887c-f27e-41c7-9434-9a347eb9495e",
   "metadata": {},
   "source": [
    "# Conllu tegemine\n",
    "\n",
    "Features: https://github.com/estnltk/estnltk/blob/4236f2033110d2bf20fc7f565950c0a2170f8573/estnltk/estnltk/taggers/standard/syntax/visl_rows.ipynb#L39"
   ]
  },
  {
   "cell_type": "code",
   "execution_count": 3,
   "id": "1ad1225a-5db2-4d15-b18b-546f4e4fab87",
   "metadata": {},
   "outputs": [
    {
     "name": "stdout",
     "output_type": "stream",
     "text": [
      "mkdir: conll: File exists\n"
     ]
    }
   ],
   "source": [
    "!mkdir conll\n",
    "!rm conll/nc21*.conll"
   ]
  },
  {
   "cell_type": "code",
   "execution_count": 4,
   "id": "37feb3ac-ac39-422b-ad7f-380d9d17d302",
   "metadata": {},
   "outputs": [
    {
     "name": "stdout",
     "output_type": "stream",
     "text": [
      "CPU times: user 143 µs, sys: 74 µs, total: 217 µs\n",
      "Wall time: 225 µs\n"
     ]
    }
   ],
   "source": [
    "%%time\n",
    "# takes ca 2 mins\n",
    "file_name = 'data/nc21_Fiction.vert'\n",
    "\n",
    "my_nc21_reader = Nc21Reader(\n",
    "   file_name = file_name\n",
    ")"
   ]
  },
  {
   "cell_type": "code",
   "execution_count": 6,
   "id": "066324cb-955d-4de9-a5e2-be716dccd2f7",
   "metadata": {},
   "outputs": [
    {
     "name": "stdout",
     "output_type": "stream",
     "text": [
      "data/nc21_Fiction.vert\n"
     ]
    },
    {
     "name": "stderr",
     "output_type": "stream",
     "text": [
      "TSV lines:   5%|████████▍                                                                                                                                                                       | 1317147/27588916 [00:56<18:42, 23404.05it/s]\n"
     ]
    },
    {
     "ename": "KeyboardInterrupt",
     "evalue": "",
     "output_type": "error",
     "traceback": [
      "\u001b[0;31m---------------------------------------------------------------------------\u001b[0m",
      "\u001b[0;31mKeyboardInterrupt\u001b[0m                         Traceback (most recent call last)",
      "Cell \u001b[0;32mIn[6], line 14\u001b[0m\n\u001b[1;32m     11\u001b[0m count_lines \u001b[38;5;241m=\u001b[39m \u001b[38;5;241m0\u001b[39m\n\u001b[1;32m     12\u001b[0m lines_per_file \u001b[38;5;241m=\u001b[39m \u001b[38;5;241m200000\u001b[39m\n\u001b[0;32m---> 14\u001b[0m \u001b[38;5;28;01mfor\u001b[39;00m sentence_id, graph \u001b[38;5;129;01min\u001b[39;00m my_nc21_reader\u001b[38;5;241m.\u001b[39mget_sentences():\n\u001b[1;32m     15\u001b[0m     conllu_lines \u001b[38;5;241m=\u001b[39m []\n\u001b[1;32m     17\u001b[0m     \u001b[38;5;66;03m# print(sentence_id)\u001b[39;00m\n\u001b[1;32m     18\u001b[0m     \u001b[38;5;66;03m#graph.draw_graph()\u001b[39;00m\n",
      "File \u001b[0;32m~/repos/eki/prg1978/data_helpers/nc21_reader.py:75\u001b[0m, in \u001b[0;36mNc21Reader.get_sentences\u001b[0;34m(self, mode)\u001b[0m\n\u001b[1;32m     73\u001b[0m \tdoc \u001b[38;5;241m=\u001b[39m re\u001b[38;5;241m.\u001b[39msub(\u001b[38;5;124mr\u001b[39m\u001b[38;5;124m'\u001b[39m\u001b[38;5;124m^<doc +\u001b[39m\u001b[38;5;124m'\u001b[39m, \u001b[38;5;124m'\u001b[39m\u001b[38;5;124m'\u001b[39m, line)\n\u001b[1;32m     74\u001b[0m \u001b[38;5;28;01melif\u001b[39;00m line \u001b[38;5;241m==\u001b[39m \u001b[38;5;124m'\u001b[39m\u001b[38;5;124m</s>\u001b[39m\u001b[38;5;124m'\u001b[39m:\n\u001b[0;32m---> 75\u001b[0m \tg \u001b[38;5;241m=\u001b[39m \u001b[43mSyntaxGraph\u001b[49m\u001b[43m(\u001b[49m\u001b[43mcurrent_sentence\u001b[49m\u001b[43m)\u001b[49m\n\u001b[1;32m     76\u001b[0m \t\u001b[38;5;28;01mif\u001b[39;00m mode \u001b[38;5;241m==\u001b[39m \u001b[38;5;124m'\u001b[39m\u001b[38;5;124mgraph\u001b[39m\u001b[38;5;124m'\u001b[39m:\n\u001b[1;32m     77\u001b[0m \t\tg\u001b[38;5;241m.\u001b[39mset_metadata(\u001b[38;5;124m'\u001b[39m\u001b[38;5;124mdoc\u001b[39m\u001b[38;5;124m'\u001b[39m, doc)\n",
      "File \u001b[0;32m~/repos/eki/prg1978/data_helpers/syntax_graph.py:66\u001b[0m, in \u001b[0;36mSyntaxGraph.__init__\u001b[0;34m(self, stanza_syntax_layer)\u001b[0m\n\u001b[1;32m     50\u001b[0m         \u001b[38;5;28mself\u001b[39m\u001b[38;5;241m.\u001b[39madd_node(\n\u001b[1;32m     51\u001b[0m             data[\u001b[38;5;124m'\u001b[39m\u001b[38;5;124mid\u001b[39m\u001b[38;5;124m'\u001b[39m],\n\u001b[1;32m     52\u001b[0m             \u001b[38;5;28mid\u001b[39m\u001b[38;5;241m=\u001b[39mdata[\u001b[38;5;124m'\u001b[39m\u001b[38;5;124mid\u001b[39m\u001b[38;5;124m'\u001b[39m],\n\u001b[0;32m   (...)\u001b[0m\n\u001b[1;32m     63\u001b[0m             \u001b[38;5;66;03m# end=data.end\u001b[39;00m\n\u001b[1;32m     64\u001b[0m         )\n\u001b[1;32m     65\u001b[0m         \u001b[38;5;28mself\u001b[39m\u001b[38;5;241m.\u001b[39madd_edge(data[\u001b[38;5;124m'\u001b[39m\u001b[38;5;124mid\u001b[39m\u001b[38;5;124m'\u001b[39m] \u001b[38;5;241m-\u001b[39m data[\u001b[38;5;124m'\u001b[39m\u001b[38;5;124mid\u001b[39m\u001b[38;5;124m'\u001b[39m] \u001b[38;5;241m+\u001b[39m data[\u001b[38;5;124m'\u001b[39m\u001b[38;5;124mhead\u001b[39m\u001b[38;5;124m'\u001b[39m], data[\u001b[38;5;124m'\u001b[39m\u001b[38;5;124mid\u001b[39m\u001b[38;5;124m'\u001b[39m], deprel\u001b[38;5;241m=\u001b[39mdata[\u001b[38;5;124m'\u001b[39m\u001b[38;5;124mdeprel\u001b[39m\u001b[38;5;124m'\u001b[39m])\n\u001b[0;32m---> 66\u001b[0m \u001b[38;5;28;43mself\u001b[39;49m\u001b[38;5;241;43m.\u001b[39;49m\u001b[43minit_distances_matrix\u001b[49m\u001b[43m(\u001b[49m\u001b[43m)\u001b[49m\n",
      "File \u001b[0;32m~/repos/eki/prg1978/data_helpers/syntax_graph.py:20\u001b[0m, in \u001b[0;36mBaseDiGraph.init_distances_matrix\u001b[0;34m(self)\u001b[0m\n\u001b[1;32m     19\u001b[0m \u001b[38;5;28;01mdef\u001b[39;00m \u001b[38;5;21minit_distances_matrix\u001b[39m(\u001b[38;5;28mself\u001b[39m):\n\u001b[0;32m---> 20\u001b[0m     \u001b[38;5;28mself\u001b[39m\u001b[38;5;241m.\u001b[39m_distances_matrix \u001b[38;5;241m=\u001b[39m {x[\u001b[38;5;241m0\u001b[39m]: x[\u001b[38;5;241m1\u001b[39m] \u001b[38;5;28;01mfor\u001b[39;00m x \u001b[38;5;129;01min\u001b[39;00m nx\u001b[38;5;241m.\u001b[39mall_pairs_shortest_path_length(\u001b[38;5;28mself\u001b[39m)}\n",
      "File \u001b[0;32m~/repos/eki/prg1978/data_helpers/syntax_graph.py:20\u001b[0m, in \u001b[0;36m<dictcomp>\u001b[0;34m(.0)\u001b[0m\n\u001b[1;32m     19\u001b[0m \u001b[38;5;28;01mdef\u001b[39;00m \u001b[38;5;21minit_distances_matrix\u001b[39m(\u001b[38;5;28mself\u001b[39m):\n\u001b[0;32m---> 20\u001b[0m     \u001b[38;5;28mself\u001b[39m\u001b[38;5;241m.\u001b[39m_distances_matrix \u001b[38;5;241m=\u001b[39m {x[\u001b[38;5;241m0\u001b[39m]: x[\u001b[38;5;241m1\u001b[39m] \u001b[38;5;28;01mfor\u001b[39;00m x \u001b[38;5;129;01min\u001b[39;00m nx\u001b[38;5;241m.\u001b[39mall_pairs_shortest_path_length(\u001b[38;5;28mself\u001b[39m)}\n",
      "File \u001b[0;32m~/opt/anaconda3/envs/py38/lib/python3.8/site-packages/networkx/algorithms/shortest_paths/unweighted.py:184\u001b[0m, in \u001b[0;36mall_pairs_shortest_path_length\u001b[0;34m(G, cutoff)\u001b[0m\n\u001b[1;32m    182\u001b[0m \u001b[38;5;66;03m# TODO This can be trivially parallelized.\u001b[39;00m\n\u001b[1;32m    183\u001b[0m \u001b[38;5;28;01mfor\u001b[39;00m n \u001b[38;5;129;01min\u001b[39;00m G:\n\u001b[0;32m--> 184\u001b[0m     \u001b[38;5;28;01myield\u001b[39;00m (n, \u001b[43mlength\u001b[49m\u001b[43m(\u001b[49m\u001b[43mG\u001b[49m\u001b[43m,\u001b[49m\u001b[43m \u001b[49m\u001b[43mn\u001b[49m\u001b[43m,\u001b[49m\u001b[43m \u001b[49m\u001b[43mcutoff\u001b[49m\u001b[38;5;241;43m=\u001b[39;49m\u001b[43mcutoff\u001b[49m\u001b[43m)\u001b[49m)\n",
      "File \u001b[0;32m~/opt/anaconda3/envs/py38/lib/python3.8/site-packages/networkx/algorithms/shortest_paths/unweighted.py:59\u001b[0m, in \u001b[0;36msingle_source_shortest_path_length\u001b[0;34m(G, source, cutoff)\u001b[0m\n\u001b[1;32m     57\u001b[0m     cutoff \u001b[38;5;241m=\u001b[39m \u001b[38;5;28mfloat\u001b[39m(\u001b[38;5;124m\"\u001b[39m\u001b[38;5;124minf\u001b[39m\u001b[38;5;124m\"\u001b[39m)\n\u001b[1;32m     58\u001b[0m nextlevel \u001b[38;5;241m=\u001b[39m {source: \u001b[38;5;241m1\u001b[39m}\n\u001b[0;32m---> 59\u001b[0m \u001b[38;5;28;01mreturn\u001b[39;00m \u001b[38;5;28;43mdict\u001b[39;49m\u001b[43m(\u001b[49m\u001b[43m_single_shortest_path_length\u001b[49m\u001b[43m(\u001b[49m\u001b[43mG\u001b[49m\u001b[38;5;241;43m.\u001b[39;49m\u001b[43madj\u001b[49m\u001b[43m,\u001b[49m\u001b[43m \u001b[49m\u001b[43mnextlevel\u001b[49m\u001b[43m,\u001b[49m\u001b[43m \u001b[49m\u001b[43mcutoff\u001b[49m\u001b[43m)\u001b[49m\u001b[43m)\u001b[49m\n",
      "\u001b[0;31mKeyboardInterrupt\u001b[0m: "
     ]
    }
   ],
   "source": [
    "filename_template = './conll/nc21_Fiction_%08d.conll'\n",
    "\n",
    "\n",
    "doc = None\n",
    "force_doc = False\n",
    "file_nr = 1\n",
    "\n",
    "f = open(filename_template % file_nr, 'w')\n",
    "f.write('# global.columns = ID FORM LEMMA UPOS XPOS FEATS HEAD DEPREL DEPS MISC\\n');\n",
    "\n",
    "count_lines = 0\n",
    "lines_per_file = 200000\n",
    "\n",
    "for sentence_id, graph in my_nc21_reader.get_sentences():\n",
    "    conllu_lines = []\n",
    "    \n",
    "    # print(sentence_id)\n",
    "    #graph.draw_graph()\n",
    "    \n",
    "    sentence_text = ' '.join([graph.nodes[n]['form'] for n in sorted(graph.nodes) if n])\n",
    "    \n",
    "    if count_lines > lines_per_file:\n",
    "        f.close()\n",
    "        file_nr += 1\n",
    "        f = open(filename_template % file_nr, 'w')\n",
    "        f.write('# global.columns = ID FORM LEMMA UPOS XPOS FEATS HEAD DEPREL DEPS MISC\\n');\n",
    "        force_doc = True\n",
    "        count_lines = 0\n",
    "        \n",
    "    \n",
    "    \n",
    "    if not doc == graph.get_metadata('doc') or force_doc:\n",
    "        doc = graph.get_metadata('doc')\n",
    "        conllu_lines.append(f'# newdoc = {doc}')\n",
    "        force_doc = False\n",
    "    \n",
    "    # print(sentence_text)\n",
    "    conllu_lines.append(f'# text = {sentence_text}')\n",
    "    for n in sorted(graph.nodes):\n",
    "        # print(dict(graph.nodes[n]))\n",
    "        if not n: \n",
    "            continue\n",
    "        id = graph.nodes[n]['id']\n",
    "        form = graph.nodes[n]['form']\n",
    "        lemma = graph.nodes[n]['lemma']\n",
    "        upos = graph.nodes[n]['pos']\n",
    "        xpos = upos\n",
    "        feats = []\n",
    "        case = graph.get_node_case(n)\n",
    "        inf_form = graph.get_node_inf_form(n)\n",
    "        pronoun_type = graph.get_node_pronoun_type(n)\n",
    "        adjective_type = graph.get_node_adjective_type(n)\n",
    "        negation = graph.get_node_negation(n)\n",
    "        inf_form = graph.get_node_inf_form(n)\n",
    "        substantive_type = graph.get_node_substantive_type(n)\n",
    "        numeral_type = graph.get_node_numeral_type(n)\n",
    "        number_format = graph.get_node_number_format(n)\n",
    "        adposition_type = graph.get_node_adposition_type(n)\n",
    "        conjunction_type = graph.get_node_conjunction_type(n)\n",
    "        punctuation_type = graph.get_node_punctuation_type(n)\n",
    "        abbreviation_type = graph.get_node_abbreviation_type(n)\n",
    "        capitalized = graph.get_node_capitalized(n)\n",
    "        person = graph.get_node_person(n)\n",
    "        tense = graph.get_node_tense(n)\n",
    "        mood = graph.get_node_mood(n)\n",
    "        voice = graph.get_node_voice(n)\n",
    "        number = graph.get_node_number(n)\n",
    "       \n",
    "        if case:\n",
    "            feats.append('Case=%s' % case)\n",
    "        \n",
    "        if inf_form:\n",
    "            feats.append('VerbType=%s' % inf_form)\n",
    "            \n",
    "        if mood:\n",
    "            feats.append('Mood=%s' % mood)\n",
    "        \n",
    "        if tense:\n",
    "            feats.append('Tense=%s' % tense)\n",
    "                \n",
    "        if voice:\n",
    "            feats.append('Voice=%s' % voice)\n",
    "        \n",
    "        if number:\n",
    "            feats.append('Number=%s' % number)\n",
    "        \n",
    "        if negation:\n",
    "            feats.append('Polarity=%s' % negation)\n",
    "            \n",
    "        if adposition_type:\n",
    "            feats.append('AdpType=%s' % adposition_type)\n",
    "          \n",
    "        if person:\n",
    "            feats.append('Person=%s' % person)\n",
    "            \n",
    "        if len(feats):\n",
    "            feats = '|'.join(sorted(feats))\n",
    "        else:\n",
    "            feats = '_'\n",
    "        \n",
    "        head = graph.nodes[n]['head']\n",
    "        deprel = graph.nodes[n]['deprel']\n",
    "        deps = '_'\n",
    "        if graph.nodes[n]['head']:\n",
    "            deps = 'H_lemma:%s' % graph.nodes[int(graph.nodes[n]['head'])]['lemma']\n",
    "        \n",
    "        misc = '_'\n",
    "        conllu_lines.append(f'{id}\\t{form}\\t{lemma}\\t{upos}\\t{xpos}\\t{feats}\\t{head}\\t{deprel}\\t{deps}\\t{misc}')\n",
    "    conllu_lines.append('')\n",
    "    conllu_lines.append('')\n",
    "    \n",
    "    count_lines += len(conllu_lines) - 1   \n",
    "    f.write('\\n'.join(conllu_lines))\n",
    "    \n",
    "\n",
    "f.close()"
   ]
  },
  {
   "cell_type": "code",
   "execution_count": 5,
   "id": "5824b0a7-870e-4610-8b90-02bf728561ae",
   "metadata": {},
   "outputs": [],
   "source": []
  },
  {
   "cell_type": "code",
   "execution_count": null,
   "id": "187da551-e27d-422e-934f-a1a9b728bf76",
   "metadata": {},
   "outputs": [],
   "source": [
    "graph.get_metadata('doc')"
   ]
  },
  {
   "cell_type": "code",
   "execution_count": 16,
   "id": "1baed752-fc2f-4338-8d2e-0685eff50024",
   "metadata": {},
   "outputs": [
    {
     "name": "stdout",
     "output_type": "stream",
     "text": [
      "# text = Aga mis takistab inimestel püüelda sinnapoole , et niisugused muinasjutud tõelisuseks saaksid ?\n",
      "1\tAga\taga\tJ\tJ\t_\t3\tcc\tH_lemma:takistama\t_\n",
      "2\tmis\tmis\tP\tP\tCase=nom|Number=sg\t3\tnsubj\tH_lemma:takistama\t_\n",
      "3\ttakistab\ttakistama\tV\tV\tMood=indic|Number=sg|Polarity=af|Tense=pres|Voice=ps\t0\troot\t_\t_\n",
      "4\tinimestel\tinimene\tS\tS\tCase=ad|Number=pl\t3\tobl\tH_lemma:takistama\t_\n",
      "5\tpüüelda\tpüüdlema\tV\tV\tVerbType=inf\t3\txcomp\tH_lemma:takistama\t_\n",
      "6\tsinnapoole\tsinnapoole\tD\tD\t_\t5\tadvmod\tH_lemma:püüdlema\t_\n",
      "7\t,\t,\tZ\tZ\t_\t12\tpunct\tH_lemma:saama\t_\n",
      "8\tet\tet\tJ\tJ\t_\t12\tmark\tH_lemma:saama\t_\n",
      "9\tniisugused\tniisugune\tP\tP\tCase=nom|Number=pl\t10\tdet\tH_lemma:muinasjutt\t_\n",
      "10\tmuinasjutud\tmuinasjutt\tS\tS\tCase=nom|Number=pl\t12\tnsubj\tH_lemma:saama\t_\n",
      "11\ttõelisuseks\ttõelisus\tS\tS\tCase=tr|Number=sg\t12\txcomp\tH_lemma:saama\t_\n",
      "12\tsaaksid\tsaama\tV\tV\tMood=cond|Number=pl|Polarity=af|Tense=pres|Voice=ps\t5\tccomp\tH_lemma:püüdlema\t_\n",
      "13\t?\t?\tZ\tZ\t_\t3\tpunct\tH_lemma:takistama\t_\n",
      "\n",
      "\n"
     ]
    }
   ],
   "source": [
    "print('\\n'.join(conllu_lines))"
   ]
  },
  {
   "cell_type": "code",
   "execution_count": null,
   "id": "6bc403f4-c878-4f22-bafd-6b834ff8aa6c",
   "metadata": {},
   "outputs": [],
   "source": [
    "graph.draw_graph()"
   ]
  },
  {
   "cell_type": "code",
   "execution_count": null,
   "id": "85e15c0f-5a82-4e88-b64a-e6e5c09d74f2",
   "metadata": {},
   "outputs": [],
   "source": []
  }
 ],
 "metadata": {
  "kernelspec": {
   "display_name": "py38",
   "language": "python",
   "name": "py38"
  },
  "language_info": {
   "codemirror_mode": {
    "name": "ipython",
    "version": 3
   },
   "file_extension": ".py",
   "mimetype": "text/x-python",
   "name": "python",
   "nbconvert_exporter": "python",
   "pygments_lexer": "ipython3",
   "version": "3.8.16"
  }
 },
 "nbformat": 4,
 "nbformat_minor": 5
}
