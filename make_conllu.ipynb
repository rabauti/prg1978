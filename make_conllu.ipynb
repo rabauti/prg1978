{
 "cells": [
  {
   "cell_type": "code",
   "execution_count": 1,
   "id": "43d66189-f326-4768-9854-005e2de3483c",
   "metadata": {},
   "outputs": [],
   "source": [
    "%load_ext autoreload\n",
    "%autoreload 2\n",
    "\n",
    "from data_helpers.nc21_reader import Nc21Reader\n",
    "\n"
   ]
  },
  {
   "cell_type": "markdown",
   "id": "bbf2887c-f27e-41c7-9434-9a347eb9495e",
   "metadata": {},
   "source": [
    "# Conllu tegemine\n",
    "\n",
    "Features: https://github.com/estnltk/estnltk/blob/4236f2033110d2bf20fc7f565950c0a2170f8573/estnltk/estnltk/taggers/standard/syntax/visl_rows.ipynb#L39"
   ]
  },
  {
   "cell_type": "code",
   "execution_count": 14,
   "id": "1ad1225a-5db2-4d15-b18b-546f4e4fab87",
   "metadata": {},
   "outputs": [
    {
     "name": "stdout",
     "output_type": "stream",
     "text": [
      "mkdir: conll: File exists\n"
     ]
    }
   ],
   "source": [
    "!mkdir conll\n",
    "!rm conll/nc21*.conll"
   ]
  },
  {
   "cell_type": "code",
   "execution_count": 7,
   "id": "37feb3ac-ac39-422b-ad7f-380d9d17d302",
   "metadata": {},
   "outputs": [
    {
     "name": "stdout",
     "output_type": "stream",
     "text": [
      "CPU times: user 50 µs, sys: 43 µs, total: 93 µs\n",
      "Wall time: 110 µs\n"
     ]
    }
   ],
   "source": [
    "%%time\n",
    "# takes ca 2 mins\n",
    "file_name = 'data/nc21_Fiction.vert'\n",
    "\n",
    "my_nc21_reader = Nc21Reader(\n",
    "   file_name = file_name\n",
    ")"
   ]
  },
  {
   "cell_type": "code",
   "execution_count": null,
   "id": "066324cb-955d-4de9-a5e2-be716dccd2f7",
   "metadata": {},
   "outputs": [
    {
     "name": "stdout",
     "output_type": "stream",
     "text": [
      "data/nc21_Fiction.vert\n"
     ]
    },
    {
     "name": "stderr",
     "output_type": "stream",
     "text": [
      "TSV lines:  92%|█████████▏| 25392128/27588916 [21:17<02:01, 18082.61it/s] "
     ]
    }
   ],
   "source": [
    "filename_template = './conll/nc21_Fiction_%08d.conll'\n",
    "\n",
    "\n",
    "doc = None\n",
    "force_doc = False\n",
    "file_nr = 1\n",
    "\n",
    "f = open(filename_template % file_nr, 'w')\n",
    "f.write('# global.columns = ID FORM LEMMA UPOS XPOS FEATS HEAD DEPREL DEPS MISC\\n');\n",
    "\n",
    "count_lines = 0\n",
    "lines_per_file = 120000\n",
    "\n",
    "for sentence_id, graph in my_nc21_reader.get_sentences():\n",
    "    conllu_lines = []\n",
    "    \n",
    "    # print(sentence_id)\n",
    "    #graph.draw_graph()\n",
    "    \n",
    "    sentence_text = ' '.join([graph.nodes[n]['form'] for n in sorted(graph.nodes) if n])\n",
    "    \n",
    "    if count_lines > lines_per_file:\n",
    "        f.close()\n",
    "        file_nr += 1\n",
    "        f = open(filename_template % file_nr, 'w')\n",
    "        f.write('# global.columns = ID FORM LEMMA UPOS XPOS FEATS HEAD DEPREL DEPS MISC\\n');\n",
    "        force_doc = True\n",
    "        count_lines = 0\n",
    "        \n",
    "    \n",
    "    \n",
    "    if not doc == graph.get_metadata('doc') or force_doc:\n",
    "        doc = graph.get_metadata('doc')\n",
    "        conllu_lines.append(f'# newdoc = {doc}')\n",
    "        force_doc = False\n",
    "    \n",
    "    # print(sentence_text)\n",
    "    conllu_lines.append(f'# text = {sentence_text}')\n",
    "    for n in sorted(graph.nodes):\n",
    "        # print(dict(graph.nodes[n]))\n",
    "        if not n: \n",
    "            continue\n",
    "        id = graph.nodes[n]['id']\n",
    "        form = graph.nodes[n]['form']\n",
    "        lemma = graph.nodes[n]['lemma']\n",
    "        upos = graph.nodes[n]['pos']\n",
    "        xpos = upos\n",
    "        feats = []\n",
    "        case = graph.get_node_case(n)\n",
    "        inf_form = graph.get_node_inf_form(n)\n",
    "        pronoun_type = graph.get_node_pronoun_type(n)\n",
    "        adjective_type = graph.get_node_adjective_type(n)\n",
    "        negation = graph.get_node_negation(n)\n",
    "        inf_form = graph.get_node_inf_form(n)\n",
    "        substantive_type = graph.get_node_substantive_type(n)\n",
    "        numeral_type = graph.get_node_numeral_type(n)\n",
    "        number_format = graph.get_node_number_format(n)\n",
    "        adposition_type = graph.get_node_adposition_type(n)\n",
    "        conjunction_type = graph.get_node_conjunction_type(n)\n",
    "        punctuation_type = graph.get_node_punctuation_type(n)\n",
    "        abbreviation_type = graph.get_node_abbreviation_type(n)\n",
    "        capitalized = graph.get_node_capitalized(n)\n",
    "        person = graph.get_node_person(n)\n",
    "        tense = graph.get_node_tense(n)\n",
    "        mood = graph.get_node_mood(n)\n",
    "        voice = graph.get_node_voice(n)\n",
    "        number = graph.get_node_number(n)\n",
    "       \n",
    "        if case:\n",
    "            feats.append('Case=%s' % case)\n",
    "        \n",
    "        if inf_form:\n",
    "            feats.append('VerbType=%s' % inf_form)\n",
    "            \n",
    "        if mood:\n",
    "            feats.append('Mood=%s' % mood)\n",
    "        \n",
    "        if tense:\n",
    "            feats.append('Tense=%s' % tense)\n",
    "                \n",
    "        if voice:\n",
    "            feats.append('Voice=%s' % voice)\n",
    "        \n",
    "        if number:\n",
    "            feats.append('Number=%s' % number)\n",
    "        \n",
    "        if negation:\n",
    "            feats.append('Polarity=%s' % negation)\n",
    "            \n",
    "        if adposition_type:\n",
    "            feats.append('AdpType=%s' % adposition_type)\n",
    "            \n",
    "            \n",
    "        if len(feats):\n",
    "            feats = '|'.join(sorted(feats))\n",
    "        else:\n",
    "            feats = '_'\n",
    "        \n",
    "        head = graph.nodes[n]['head']\n",
    "        deprel = graph.nodes[n]['deprel']\n",
    "        deps = '_'\n",
    "        if graph.nodes[n]['head']:\n",
    "            deps = 'H_lemma:%s' % graph.nodes[int(graph.nodes[n]['head'])]['lemma']\n",
    "        \n",
    "        misc = '_'\n",
    "        conllu_lines.append(f'{id}\\t{form}\\t{lemma}\\t{upos}\\t{xpos}\\t{feats}\\t{head}\\t{deprel}\\t{deps}\\t{misc}')\n",
    "    conllu_lines.append('')\n",
    "    conllu_lines.append('')\n",
    "    \n",
    "    count_lines += len(conllu_lines) - 1   \n",
    "    f.write('\\n'.join(conllu_lines))\n",
    "    \n",
    "\n",
    "f.close()"
   ]
  },
  {
   "cell_type": "code",
   "execution_count": 5,
   "id": "5824b0a7-870e-4610-8b90-02bf728561ae",
   "metadata": {},
   "outputs": [],
   "source": []
  },
  {
   "cell_type": "code",
   "execution_count": null,
   "id": "187da551-e27d-422e-934f-a1a9b728bf76",
   "metadata": {},
   "outputs": [],
   "source": [
    "graph.get_metadata('doc')"
   ]
  },
  {
   "cell_type": "code",
   "execution_count": null,
   "id": "1baed752-fc2f-4338-8d2e-0685eff50024",
   "metadata": {},
   "outputs": [],
   "source": [
    "print('\\n'.join(conllu_lines))"
   ]
  },
  {
   "cell_type": "code",
   "execution_count": null,
   "id": "6bc403f4-c878-4f22-bafd-6b834ff8aa6c",
   "metadata": {},
   "outputs": [],
   "source": [
    "graph.draw_graph()"
   ]
  },
  {
   "cell_type": "code",
   "execution_count": null,
   "id": "85e15c0f-5a82-4e88-b64a-e6e5c09d74f2",
   "metadata": {},
   "outputs": [],
   "source": []
  }
 ],
 "metadata": {
  "kernelspec": {
   "display_name": "Python 3",
   "language": "python",
   "name": "python3"
  },
  "language_info": {
   "codemirror_mode": {
    "name": "ipython",
    "version": 3
   },
   "file_extension": ".py",
   "mimetype": "text/x-python",
   "name": "python",
   "nbconvert_exporter": "python",
   "pygments_lexer": "ipython3",
   "version": "3.7.7"
  }
 },
 "nbformat": 4,
 "nbformat_minor": 5
}
