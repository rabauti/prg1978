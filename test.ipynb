{
 "cells": [
  {
   "cell_type": "code",
   "execution_count": 14,
   "metadata": {},
   "outputs": [
    {
     "data": {
      "text/plain": [
       "{'metadata': {'text': 'Üldhariduskool on Eestis kaheteistkümneklassiline.',\n",
       "  'sent_id': '0',\n",
       "  'sent_level': 'gümn',\n",
       "  'row_nr': '0'},\n",
       " 'default_fields': ('id',\n",
       "  'form',\n",
       "  'lemma',\n",
       "  'upos',\n",
       "  'xpos',\n",
       "  'feats',\n",
       "  'head',\n",
       "  'deprel',\n",
       "  'deps',\n",
       "  'misc')}"
      ]
     },
     "metadata": {},
     "output_type": "display_data"
    },
    {
     "name": "stdout",
     "output_type": "stream",
     "text": [
      "Üldhariduskool on Eestis kaheteistkümneklassiline.\n"
     ]
    },
    {
     "data": {
      "text/plain": [
       "{'id': 1,\n",
       " 'form': 'Üldhariduskool',\n",
       " 'lemma': 'üld_haridus_kool',\n",
       " 'upos': 'NOUN',\n",
       " 'xpos': 'S',\n",
       " 'feats': {'Case': 'Nom', 'Number': 'Sing'},\n",
       " 'head': 4,\n",
       " 'deprel': 'nsubj:cop',\n",
       " 'deps': None,\n",
       " 'misc': {'start_char': '0', 'end_char': '14'}}"
      ]
     },
     "metadata": {},
     "output_type": "display_data"
    },
    {
     "data": {
      "text/plain": [
       "{'id': 2,\n",
       " 'form': 'on',\n",
       " 'lemma': 'olema',\n",
       " 'upos': 'AUX',\n",
       " 'xpos': 'V',\n",
       " 'feats': {'Mood': 'Ind',\n",
       "  'Number': 'Sing',\n",
       "  'Person': '3',\n",
       "  'Tense': 'Pres',\n",
       "  'VerbForm': 'Fin',\n",
       "  'Voice': 'Act'},\n",
       " 'head': 4,\n",
       " 'deprel': 'cop',\n",
       " 'deps': None,\n",
       " 'misc': {'start_char': '15', 'end_char': '17'}}"
      ]
     },
     "metadata": {},
     "output_type": "display_data"
    },
    {
     "data": {
      "text/plain": [
       "{'id': 3,\n",
       " 'form': 'Eestis',\n",
       " 'lemma': 'Eesti',\n",
       " 'upos': 'PROPN',\n",
       " 'xpos': 'S',\n",
       " 'feats': {'Case': 'Ine', 'Number': 'Sing'},\n",
       " 'head': 4,\n",
       " 'deprel': 'obl',\n",
       " 'deps': None,\n",
       " 'misc': {'start_char': '18', 'end_char': '24'}}"
      ]
     },
     "metadata": {},
     "output_type": "display_data"
    },
    {
     "data": {
      "text/plain": [
       "{'id': 4,\n",
       " 'form': 'kaheteistkümneklassiline',\n",
       " 'lemma': 'kahe_teist_kümne_klassi=line',\n",
       " 'upos': 'ADJ',\n",
       " 'xpos': 'A',\n",
       " 'feats': {'Case': 'Nom', 'Degree': 'Pos', 'Number': 'Sing'},\n",
       " 'head': 0,\n",
       " 'deprel': 'root',\n",
       " 'deps': None,\n",
       " 'misc': {'start_char': '25', 'end_char': '49', 'SpaceAfter': 'No'}}"
      ]
     },
     "metadata": {},
     "output_type": "display_data"
    },
    {
     "data": {
      "text/plain": [
       "{'id': 5,\n",
       " 'form': '.',\n",
       " 'lemma': '.',\n",
       " 'upos': 'PUNCT',\n",
       " 'xpos': 'Z',\n",
       " 'feats': None,\n",
       " 'head': 4,\n",
       " 'deprel': 'punct',\n",
       " 'deps': None,\n",
       " 'misc': {'start_char': '49', 'end_char': '50', 'SpaceAfter': 'No'}}"
      ]
     },
     "metadata": {},
     "output_type": "display_data"
    }
   ],
   "source": [
    "from io import open\n",
    "from conllu import parse_incr\n",
    "\n",
    "data_file = open(\"data/Eesti-keele-kui-teise-keele-kooliõpikute-lausete-korpus-2021.conllu\", \"r\", encoding=\"utf-8\")\n",
    "for tokenlist in parse_incr(data_file):\n",
    "    display(vars(tokenlist))\n",
    "    print(tokenlist.metadata['text'])\n",
    "    for token in tokenlist:\n",
    "        display(token)\n",
    "    break\n",
    "\n"
   ]
  }
 ],
 "metadata": {
  "kernelspec": {
   "display_name": "venv",
   "language": "python",
   "name": "python3"
  },
  "language_info": {
   "codemirror_mode": {
    "name": "ipython",
    "version": 3
   },
   "file_extension": ".py",
   "mimetype": "text/x-python",
   "name": "python",
   "nbconvert_exporter": "python",
   "pygments_lexer": "ipython3",
   "version": "3.12.3"
  }
 },
 "nbformat": 4,
 "nbformat_minor": 2
}
